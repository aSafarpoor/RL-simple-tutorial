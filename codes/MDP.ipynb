{
  "cells": [
    {
      "cell_type": "markdown",
      "metadata": {
        "id": "view-in-github",
        "colab_type": "text"
      },
      "source": [
        "<a href=\"https://colab.research.google.com/github/aSafarpoor/RL-simple-tutorial/blob/main/codes/MDP.ipynb\" target=\"_parent\"><img src=\"https://colab.research.google.com/assets/colab-badge.svg\" alt=\"Open In Colab\"/></a>"
      ]
    },
    {
      "cell_type": "markdown",
      "metadata": {
        "pycharm": {
          "name": "#%%\n"
        },
        "id": "IPkCrXoZpuoW"
      },
      "source": [
        "# A coding introduction to the Markov Decision Process "
      ]
    },
    {
      "cell_type": "code",
      "source": [
        "\"\"\"\n",
        "Maze environment used in the first three modules of the course:\n",
        "\"Beginner to Master: Reinforcement Learning\".\n",
        "\"\"\"\n",
        "from typing import Tuple, Dict, Optional, Iterable\n",
        "import numpy as np\n",
        "import gym\n",
        "from gym import spaces\n",
        "from gym.error import DependencyNotInstalled\n",
        "import pygame\n",
        "from pygame import gfxdraw\n",
        "\n",
        "\n",
        "class Maze(gym.Env):\n",
        "    \"\"\"\n",
        "    Description:\n",
        "        The environment consists of a grid of (size x size) positions. The agent\n",
        "        starts the episode in location (row=0, col=0) if the environment is instantiated\n",
        "        without exploring starts or from a random location (different from the goal)\n",
        "         if it is. The goal is always at (row=size-1, col=size-1).\n",
        "    Observation:\n",
        "        Type: MultiDiscrete(2)\n",
        "        Num     Observation     Min     Max\n",
        "        0       row coordinate    0       size-1\n",
        "        1       col coordinate    0       size-1\n",
        "    Actions:\n",
        "        Type: Discrete(4)\n",
        "        Num     Action\n",
        "        0       Move up\n",
        "        1       Move right\n",
        "        2       Move down\n",
        "        3       Move left\n",
        "    Reward:\n",
        "        If the environment is instantiated with shaped rewards, then at each time step\n",
        "        the agent will receive a reward signal of the following magnitude:\n",
        "\n",
        "            r = - steps_to_goal(current_state) / steps_to_goal(furthest_state)\n",
        "\n",
        "        This ensures that the maximum reward awarded will be -1.0 and that at the goal\n",
        "        the reward will be 0.\n",
        "\n",
        "        If the environment is instantiated without shaped rewards, then at each time step\n",
        "        the agent will receive a reward of -1.0 until it reaches the goal.\n",
        "    Episode termination:\n",
        "        The episode terminates when the agent reaches the goal state.\n",
        "    \"\"\"\n",
        "\n",
        "    def __init__(self, exploring_starts: bool = False,\n",
        "                 shaped_rewards: bool = False, size: int = 5) -> None:\n",
        "        \"\"\"\n",
        "        Initialize the environment.\n",
        "\n",
        "        Args:\n",
        "            exploring_starts: should the agent restart at a random location or not.\n",
        "            shaped_rewards: should the environment shape the rewards.\n",
        "            size: size of the maze. Will be of shape (size x size).\n",
        "        \"\"\"\n",
        "        super().__init__()\n",
        "        self.exploring_starts = exploring_starts\n",
        "        self.shaped_rewards = shaped_rewards\n",
        "        self.state = (size - 1, size - 1)\n",
        "        self.goal = (size - 1, size - 1)\n",
        "        self.maze = self._create_maze(size=size)\n",
        "        self.distances = self._compute_distances(self.goal, self.maze)\n",
        "        self.action_space = spaces.Discrete(n=4)\n",
        "        self.action_space.action_meanings = {0: 'UP', 1: 'RIGHT', 2: 'DOWN', 3: \"LEFT\"}\n",
        "        self.observation_space = spaces.MultiDiscrete([size, size])\n",
        "\n",
        "        self.screen = None\n",
        "        self.agent_transform = None\n",
        "\n",
        "    def step(self, action: int) -> Tuple[Tuple[int, int], float, bool, Dict]:\n",
        "        \"\"\"\n",
        "        Take an action in the environment and observe the next transition.\n",
        "\n",
        "        Args:\n",
        "            action: An indicator of the action to be taken.\n",
        "\n",
        "        Returns:\n",
        "            The next transition.\n",
        "        \"\"\"\n",
        "        reward = self.compute_reward(self.state, action)\n",
        "        self.state = self._get_next_state(self.state, action)\n",
        "        done = self.state == self.goal\n",
        "        info = {}\n",
        "        return self.state, reward, done, info\n",
        "\n",
        "    def reset(self) -> Tuple[int, int]:\n",
        "        \"\"\"\n",
        "        Reset the environment to execute a new episode.\n",
        "\n",
        "        Returns: State representing the initial position of the agent.\n",
        "        \"\"\"\n",
        "        if self.exploring_starts:\n",
        "            while self.state == self.goal:\n",
        "                self.state = tuple(self.observation_space.sample())\n",
        "        else:\n",
        "            self.state = (0, 0)\n",
        "        return self.state\n",
        "\n",
        "    def render(self, mode: str = 'human') -> Optional[np.ndarray]:\n",
        "        \"\"\"\n",
        "        Render a state of the environment.\n",
        "\n",
        "        Args:\n",
        "            mode: one of 'human' or 'rgb_array'. Human added only for compatibility.\n",
        "            All rendering will be done in 'rgb arrays' via NumPy.\n",
        "\n",
        "        Returns:\n",
        "            A numpy.ndarray or None.\n",
        "\n",
        "        \"\"\"\n",
        "        assert mode in ['human', 'rgb_array']\n",
        "\n",
        "        screen_size = 600\n",
        "        scale = screen_size / 5\n",
        "\n",
        "        if self.screen is None:\n",
        "            pygame.init()\n",
        "            self.screen = pygame.Surface((screen_size, screen_size))\n",
        "\n",
        "        surf = pygame.Surface((screen_size, screen_size))\n",
        "        surf.fill((22, 36, 71))\n",
        "\n",
        "\n",
        "        for row in range(5):\n",
        "            for col in range(5):\n",
        "\n",
        "                state = (row, col)\n",
        "                for next_state in [(row + 1, col), (row - 1, col), (row, col + 1), (row, col - 1)]:\n",
        "                    if next_state not in self.maze[state]:\n",
        "\n",
        "                        # Add the geometry of the edges and walls (i.e. the boundaries between\n",
        "                        # adjacent squares that are not connected).\n",
        "                        row_diff, col_diff = np.subtract(next_state, state)\n",
        "                        left = (col + (col_diff > 0)) * scale - 2 * (col_diff != 0)\n",
        "                        right = ((col + 1) - (col_diff < 0)) * scale + 2 * (col_diff != 0)\n",
        "                        top = (5 - (row + (row_diff > 0))) * scale - 2 * (row_diff != 0)\n",
        "                        bottom = (5 - ((row + 1) - (row_diff < 0))) * scale + 2 * (row_diff != 0)\n",
        "\n",
        "                        gfxdraw.filled_polygon(surf, [(left, bottom), (left, top), (right, top), (right, bottom)], (255, 255, 255))\n",
        "\n",
        "        # Add the geometry of the goal square to the viewer.\n",
        "        left, right, top, bottom = scale * 4 + 10, scale * 5 - 10, scale - 10, 10\n",
        "        gfxdraw.filled_polygon(surf, [(left, bottom), (left, top), (right, top), (right, bottom)], (40, 199, 172))\n",
        "\n",
        "        # Add the geometry of the agent to the viewer.\n",
        "        agent_row = int(screen_size - scale * (self.state[0] + .5))\n",
        "        agent_col = int(scale * (self.state[1] + .5))\n",
        "        gfxdraw.filled_circle(surf, agent_col, agent_row, int(scale * .6 / 2), (228, 63, 90))\n",
        "\n",
        "        surf = pygame.transform.flip(surf, False, True)\n",
        "        self.screen.blit(surf, (0, 0))\n",
        "\n",
        "        return np.transpose(\n",
        "                np.array(pygame.surfarray.pixels3d(self.screen)), axes=(1, 0, 2)\n",
        "            )\n",
        "\n",
        "    def close(self) -> None:\n",
        "        \"\"\"\n",
        "        Clean up resources before shutting down the environment.\n",
        "\n",
        "        Returns: None.\n",
        "        \"\"\"\n",
        "        if self.screen is not None:\n",
        "            pygame.display.quit()\n",
        "            pygame.quit()\n",
        "            self.screen = None\n",
        "\n",
        "    def compute_reward(self, state: Tuple[int, int], action: int) -> float:\n",
        "        \"\"\"\n",
        "        Compute the reward attained by taking action 'a' at state 's'.\n",
        "\n",
        "        Args:\n",
        "            state: the state of the agent prior to taking the action.\n",
        "            action: the action taken by the agent.\n",
        "\n",
        "        Returns:\n",
        "            A float representing the reward signal received by the agent.\n",
        "\n",
        "        \"\"\"\n",
        "        next_state = self._get_next_state(state, action)\n",
        "        if self.shaped_rewards:\n",
        "            return - (self.distances[next_state] / self.distances.max())\n",
        "        return - float(state != self.goal)\n",
        "\n",
        "    def simulate_step(self, state: Tuple[int, int], action: int):\n",
        "        \"\"\"\n",
        "\n",
        "        Simulate (without taking) a step in the environment.\n",
        "\n",
        "        Args:\n",
        "            state: the state of the agent prior to taking the action.\n",
        "            action: the action to simulate the step with.\n",
        "\n",
        "        Returns:\n",
        "            The next transition.\n",
        "\n",
        "        \"\"\"\n",
        "        reward = self.compute_reward(state, action)\n",
        "        next_state = self._get_next_state(state, action)\n",
        "        done = next_state == self.goal\n",
        "        info = {}\n",
        "        return next_state, reward, done, info\n",
        "\n",
        "    def _get_next_state(self, state: Tuple[int, int], action: int) -> Tuple[int, int]:\n",
        "        \"\"\"\n",
        "        Gets the next state after the agent performs action 'a' in state 's'. If there is a\n",
        "        wall in the way, the next state will be the same as the current.\n",
        "\n",
        "        Args:\n",
        "            state: current state (before taking the action).\n",
        "            action: move performed by the agent.\n",
        "\n",
        "        Returns: a State instance representing the new state.\n",
        "        \"\"\"\n",
        "        if action == 0:\n",
        "            next_state = (state[0] - 1, state[1])\n",
        "        elif action == 1:\n",
        "            next_state = (state[0], state[1] + 1)\n",
        "        elif action == 2:\n",
        "            next_state = (state[0] + 1, state[1])\n",
        "        elif action == 3:\n",
        "            next_state = (state[0], state[1] - 1)\n",
        "        else:\n",
        "            raise ValueError(\"Action value not supported:\", action)\n",
        "        if next_state in self.maze[state]:\n",
        "            return next_state\n",
        "        return state\n",
        "\n",
        "    @staticmethod\n",
        "    def _create_maze(size: int) -> Dict[Tuple[int, int], Iterable[Tuple[int, int]]]:\n",
        "        \"\"\"\n",
        "        Creates a representation of the maze as a dictionary where the keys are\n",
        "        the states available to the agent and the values are lists of adjacent\n",
        "        states.\n",
        "\n",
        "        Args:\n",
        "            size: number of elements of each side in the square grid.\n",
        "\n",
        "        Returns: the adjacency list dictionary.\n",
        "        \"\"\"\n",
        "\n",
        "        maze = {(row, col): [(row - 1, col), (row + 1, col), (row, col - 1), (row, col + 1)]\n",
        "                for row in range(size) for col in range(size)}\n",
        "\n",
        "        left_edges = [[(row, 0), (row, -1)] for row in range(size)]\n",
        "        right_edges = [[(row, size - 1), (row, size)] for row in range(size)]\n",
        "        upper_edges = [[(0, col), (-1, col)] for col in range(size)]\n",
        "        lower_edges = [[(size - 1, col), (size, col)] for col in range(size)]\n",
        "        walls = [\n",
        "            [(1, 0), (1, 1)], [(2, 0), (2, 1)], [(3, 0), (3, 1)],\n",
        "            [(1, 1), (1, 2)], [(2, 1), (2, 2)], [(3, 1), (3, 2)],\n",
        "            [(3, 1), (4, 1)], [(0, 2), (1, 2)], [(1, 2), (1, 3)],\n",
        "            [(2, 2), (3, 2)], [(2, 3), (3, 3)], [(2, 4), (3, 4)],\n",
        "            [(4, 2), (4, 3)], [(1, 3), (1, 4)], [(2, 3), (2, 4)],\n",
        "        ]\n",
        "\n",
        "        obstacles = upper_edges + lower_edges + left_edges + right_edges + walls\n",
        "\n",
        "        for src, dst in obstacles:\n",
        "            maze[src].remove(dst)\n",
        "\n",
        "            if dst in maze:\n",
        "                maze[dst].remove(src)\n",
        "\n",
        "        return maze\n",
        "\n",
        "    @staticmethod\n",
        "    def _compute_distances(goal: Tuple[int, int],\n",
        "                           maze: Dict[Tuple[int, int], Iterable[Tuple[int, int]]]) -> np.ndarray:\n",
        "        \"\"\"\n",
        "        Compute the distance to the goal from all other positions in the maze using Dijkstra's\n",
        "        algorithm.\n",
        "\n",
        "        Args:\n",
        "            goal: A tuple representing the location of the goal in a two-dimensional grid.\n",
        "            maze: A dictionary holding the adjacency lists of all locations in the\n",
        "            two-dimensional grid.\n",
        "\n",
        "        Returns: A (H x W) numpy array holding the minimum number of moves for each position\n",
        "        to reach the goal.\n",
        "\n",
        "        \"\"\"\n",
        "        distances = np.full((5, 5), np.inf)\n",
        "        visited = set()\n",
        "        distances[goal] = 0.\n",
        "\n",
        "        while visited != set(maze):\n",
        "            sorted_dst = [(v // 5, v % 5) for v in distances.argsort(axis=None)]\n",
        "            closest = next(x for x in sorted_dst if x not in visited)\n",
        "            visited.add(closest)\n",
        "\n",
        "            for neighbour in maze[closest]:\n",
        "                distances[neighbour] = min(distances[neighbour], distances[closest] + 1)\n",
        "        return distances\n"
      ],
      "metadata": {
        "id": "9y8AdIVhsSyy"
      },
      "execution_count": 3,
      "outputs": []
    },
    {
      "cell_type": "code",
      "execution_count": 4,
      "metadata": {
        "pycharm": {
          "name": "#%%\n"
        },
        "id": "ASrnnukxpuol"
      },
      "outputs": [],
      "source": [
        "import gym\n",
        "import numpy as np\n",
        "from IPython import display\n",
        "from matplotlib import pyplot as plt\n",
        "\n",
        "%matplotlib inline"
      ]
    },
    {
      "cell_type": "markdown",
      "metadata": {
        "id": "HWSwKsCxpuoo"
      },
      "source": [
        "## Quick view of the Gym library:\n",
        "<br/>\n",
        "<br/>\n",
        "\n",
        "Gym is a library for reinforcement learning research. It provides us with a simple interface to a large number of tasks, including\n",
        "\n",
        "- Classic control tasks (CartPole, Pendulum, MountainCar, etc)\n",
        "- Classic video games (Space Invaders, Breakout, Pong, etc)\n",
        "- Continuous control tasks\n",
        "- Robotic arm manipulation\n",
        "\n",
        "In this section we are going to get familiar with the five methods that we'll use while solving a control\n",
        "task.\n",
        "\n",
        "\n",
        "<br/>\n",
        "<br/>"
      ]
    },
    {
      "cell_type": "markdown",
      "source": [
        "![Screenshot 2023-04-03 150453.png](data:image/png;base64,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)\n",
        "\n",
        "###### Source: https://upload.wikimedia.org/wikipedia/commons/1/1b/Reinforcement_learning_diagram.svg"
      ],
      "metadata": {
        "id": "M9OofN4Jr7gk"
      }
    },
    {
      "cell_type": "markdown",
      "metadata": {
        "id": "7VHOw5DUpuop"
      },
      "source": [
        "##### Making the environment: Maze()\n",
        "\n",
        "To create an environment, just pass a string with its name to the gym.make method. If the environment exists, the method returns an instance of the gym.Env class, which represents the environment of the task we are going to solve."
      ]
    },
    {
      "cell_type": "code",
      "execution_count": 5,
      "metadata": {
        "id": "ukDKgtFFpuoq"
      },
      "outputs": [],
      "source": [
        "env = Maze()"
      ]
    },
    {
      "cell_type": "markdown",
      "metadata": {
        "id": "CL1RMRsKpuoq"
      },
      "source": [
        "###### env.reset()\n",
        "\n",
        "This method places the environment in its initial state to  and returns it so that the agent can observe it.\n"
      ]
    },
    {
      "cell_type": "code",
      "execution_count": 6,
      "metadata": {
        "colab": {
          "base_uri": "https://localhost:8080/"
        },
        "id": "rSwY5wddpuor",
        "outputId": "a2ec9ae7-b92f-42ff-c8c5-dda4d8f4bcdc"
      },
      "outputs": [
        {
          "output_type": "stream",
          "name": "stdout",
          "text": [
            "The new episode will start in state: (0, 0)\n"
          ]
        }
      ],
      "source": [
        "initial_state = env.reset()\n",
        "print(f\"The new episode will start in state: {initial_state}\")"
      ]
    },
    {
      "cell_type": "markdown",
      "metadata": {
        "id": "ZWyWjbmqpuor"
      },
      "source": [
        "##### env.render()\n",
        "\n",
        "This method generates an image that represents the current state of the environment, in the form of a np.ndarray. "
      ]
    },
    {
      "cell_type": "code",
      "execution_count": 7,
      "metadata": {
        "scrolled": true,
        "colab": {
          "base_uri": "https://localhost:8080/",
          "height": 517
        },
        "id": "yFXSbRa2puos",
        "outputId": "6d5bed43-6d76-4973-c285-6336a86e98d1"
      },
      "outputs": [
        {
          "output_type": "stream",
          "name": "stderr",
          "text": [
            "/usr/local/lib/python3.9/dist-packages/gym/core.py:43: DeprecationWarning: \u001b[33mWARN: The argument mode in render method is deprecated; use render_mode during environment initialization instead.\n",
            "See here for more information: https://www.gymlibrary.ml/content/api/\u001b[0m\n",
            "  deprecation(\n"
          ]
        },
        {
          "output_type": "execute_result",
          "data": {
            "text/plain": [
              "<matplotlib.image.AxesImage at 0x7fa4249fe5b0>"
            ]
          },
          "metadata": {},
          "execution_count": 7
        },
        {
          "output_type": "display_data",
          "data": {
            "text/plain": [
              "<Figure size 640x480 with 1 Axes>"
            ],
            "image/png": "[encoded data removed]"
          },
          "metadata": {}
        }
      ],
      "source": [
        "frame = env.render(mode='rgb_array')\n",
        "plt.axis('off')\n",
        "plt.title(f\"State: {initial_state}\")\n",
        "plt.imshow(frame)"
      ]
    },
    {
      "cell_type": "markdown",
      "metadata": {
        "id": "YZdFqnN4puot"
      },
      "source": [
        "##### env.step()\n",
        "\n",
        "This method applies the action selected by the agent in the environment, to modify it. In response, the environment returns a tuple of four objects: \n",
        "\n",
        "- The next state\n",
        "- The reward obtained\n",
        "- (bool) if the task has been completed\n",
        "- any other relevant information in a python dictionary"
      ]
    },
    {
      "cell_type": "code",
      "execution_count": 8,
      "metadata": {
        "colab": {
          "base_uri": "https://localhost:8080/"
        },
        "id": "erja0AEDpuou",
        "outputId": "05d0149e-e960-4fcb-f683-889f3f424d41"
      },
      "outputs": [
        {
          "output_type": "stream",
          "name": "stdout",
          "text": [
            "After moving down 1 row, the agent is in state: (1, 0)\n",
            "After moving down 1 row, we got a reward of: -1.0\n",
            "After moving down 1 row, the task is not finished\n"
          ]
        }
      ],
      "source": [
        "action = 2\n",
        "next_state, reward, done, info = env.step(action)\n",
        "print(f\"After moving down 1 row, the agent is in state: {next_state}\")\n",
        "print(f\"After moving down 1 row, we got a reward of: {reward}\")\n",
        "print(\"After moving down 1 row, the task is\", \"\" if done else \"not\", \"finished\")"
      ]
    },
    {
      "cell_type": "markdown",
      "metadata": {
        "id": "wQOyHRTSpuov"
      },
      "source": [
        "###### Render the new state"
      ]
    },
    {
      "cell_type": "code",
      "execution_count": 9,
      "metadata": {
        "colab": {
          "base_uri": "https://localhost:8080/",
          "height": 445
        },
        "id": "MGOxBjXzpuov",
        "outputId": "81d3fb44-fb9a-4b68-86cb-cdd6f7e0a6a1"
      },
      "outputs": [
        {
          "output_type": "execute_result",
          "data": {
            "text/plain": [
              "<matplotlib.image.AxesImage at 0x7fa3f87ade50>"
            ]
          },
          "metadata": {},
          "execution_count": 9
        },
        {
          "output_type": "display_data",
          "data": {
            "text/plain": [
              "<Figure size 640x480 with 1 Axes>"
            ],
            "image/png": "[encoded data removed]"
          },
          "metadata": {}
        }
      ],
      "source": [
        "frame = env.render(mode='rgb_array')\n",
        "plt.axis('off')\n",
        "plt.title(f\"State: {next_state}\")\n",
        "plt.imshow(frame)"
      ]
    },
    {
      "cell_type": "markdown",
      "metadata": {
        "id": "yVu_lSUgpuow"
      },
      "source": [
        "##### env.close()\n",
        "\n",
        "It completes the task and closes the environment, releasing the associated resources."
      ]
    },
    {
      "cell_type": "code",
      "execution_count": 10,
      "metadata": {
        "id": "lRoEdoz_puow"
      },
      "outputs": [],
      "source": [
        "env.close()"
      ]
    },
    {
      "cell_type": "markdown",
      "metadata": {
        "id": "H3y8_QjRpuow"
      },
      "source": [
        "## Maze environment: Find the exit.\n",
        "\n",
        "\n",
        "In this section we are going to familiarize ourselves with the environment that we'll use in the lessons 2 (dynamic programming), 3 (Monte Carlo methods) and 4 (temporal difference methods). This environment is perfect for learning the basics of Reinforcement Learning because:\n",
        "\n",
        "- It has few states (25)\n",
        "- Transitions between states are deterministic ($p(s', r| s, a) = 1$)\n",
        "- All rewards are the same (-1) until the episode concludes. Thus facilitating the study of the value and action-value functions\n",
        "\n",
        "Through this environment, we are going to review the concepts seen in lesson 1 (The Markov decision process):\n",
        "\n",
        "- States and state space\n",
        "- Actions and action space\n",
        "- Trajectories and episodes\n",
        "- Rewards and returns\n",
        "- Policy\n",
        "\n",
        "\n",
        "The environment is a maze of 5x5 cells, in which the goal of the agent is to find the exit, located in the lower right corner, in the cell (4,4). In the image, the exit is colored in light green.\n",
        "\n",
        "To reach the exit, the agent can take four different actions: move up, move down, move left and move right."
      ]
    },
    {
      "cell_type": "markdown",
      "metadata": {
        "id": "SMujtvbGpuox"
      },
      "source": [
        "###### Create the environment."
      ]
    },
    {
      "cell_type": "code",
      "execution_count": 11,
      "metadata": {
        "id": "X5ZHKi0wpuox"
      },
      "outputs": [],
      "source": [
        "env = Maze()"
      ]
    },
    {
      "cell_type": "markdown",
      "metadata": {
        "id": "J0bPRZ5Rpuox"
      },
      "source": [
        "##### States and state space\n",
        "\n",
        "The states consist of a tuple of two integers, both in the range [0, 4], representing the row and column in which the agent is currently located:\n",
        "<br>\n",
        "<br>\n",
        "\n",
        "\\begin{equation}\n",
        "    s = (row, column) \\;\\\\\n",
        "    row, column \\in \\{0,1,2,3, 4\\}\n",
        "\\end{equation}\n",
        "<br>\n",
        "<br>\n",
        "The state space (set of all possible states in the task) has 25 elements (all possible combinations of rows and columns):\n",
        "\n",
        "\n",
        "\\begin{equation}\n",
        "    Rows \\times Columns \\;\\\\\n",
        "    S = \\{(0, 0), (0, 1), (1, 0), ...\\}\n",
        "\\end{equation}\n",
        "\n",
        "Information about the state space is stored in the env.observation_space property. In this environment, it is of MultiDiscrete([5 5]) type, which means that it consists of two elements (rows and columns), each with 5 different values."
      ]
    },
    {
      "cell_type": "code",
      "execution_count": 12,
      "metadata": {
        "colab": {
          "base_uri": "https://localhost:8080/"
        },
        "id": "6JAiXg6hpuox",
        "outputId": "d8b61c6a-ce59-4b45-a478-f742ecb1836f"
      },
      "outputs": [
        {
          "output_type": "stream",
          "name": "stdout",
          "text": [
            "For example, the initial state is: (0, 0)\n",
            "The space state is of type: MultiDiscrete([5 5])\n"
          ]
        }
      ],
      "source": [
        "print(f\"For example, the initial state is: {env.reset()}\")\n",
        "print(f\"The space state is of type: {env.observation_space}\")"
      ]
    },
    {
      "cell_type": "markdown",
      "metadata": {
        "id": "mbGHy1nkpuoy"
      },
      "source": [
        "##### Actions and action space\n",
        "\n",
        "In this environment, there are four different actions and they are represented by integers:\n",
        "\n",
        "\\begin{equation}\n",
        "a \\in \\{0, 1, 2, 3\\}\n",
        "\\end{equation}\n",
        "\n",
        "- 0 -> move up\n",
        "- 1 -> move right\n",
        "- 2 -> move down\n",
        "- 3 -> move left\n",
        "\n",
        "To execute an action, simply pass it as an argument to the env.step method. Information about the action space is stored in the env.action_space property which is of Discrete(4) class. This means that in this case it only consists of an element in the range [0,4), unlike the state space seen above.\n"
      ]
    },
    {
      "cell_type": "code",
      "execution_count": 13,
      "metadata": {
        "colab": {
          "base_uri": "https://localhost:8080/"
        },
        "id": "fw780o4Fpuoy",
        "outputId": "cc190836-7cc0-43e1-fb28-6e981dcc089d"
      },
      "outputs": [
        {
          "output_type": "stream",
          "name": "stdout",
          "text": [
            "An example of a valid action is: 1\n",
            "The action state is of type: Discrete(4)\n"
          ]
        }
      ],
      "source": [
        "print(f\"An example of a valid action is: {env.action_space.sample()}\")\n",
        "print(f\"The action state is of type: {env.action_space}\")"
      ]
    },
    {
      "cell_type": "markdown",
      "metadata": {
        "id": "eS9d1Bnjpuoy"
      },
      "source": [
        "##### Trajectories and episodes\n",
        "\n",
        "A trajectory is the sequence generated by moving from one state to another (both arbitrary)\n",
        "\n",
        "\\begin{equation}\n",
        "  \\tau = S_0, A_0, R_1, S_1, A_1, ... R_N, S_N,\n",
        "\\end{equation}\n",
        "\n",
        "Let's generate a trajectory of 3 moves in code:"
      ]
    },
    {
      "cell_type": "code",
      "execution_count": 14,
      "metadata": {
        "colab": {
          "base_uri": "https://localhost:8080/"
        },
        "id": "avtYV5jFpuoy",
        "outputId": "63e47ceb-c8b7-42c2-89e9-16cd68b08711"
      },
      "outputs": [
        {
          "output_type": "stream",
          "name": "stdout",
          "text": [
            "Congrats! You just generated your first trajectory:\n",
            "[[(0, 0), 3, -1.0, False, (0, 0)], [(0, 0), 2, -1.0, False, (1, 0)], [(1, 0), 2, -1.0, False, (2, 0)]]\n"
          ]
        }
      ],
      "source": [
        "env = Maze()\n",
        "state = env.reset()\n",
        "trajectory = []\n",
        "for _ in range(3):\n",
        "    action = env.action_space.sample()\n",
        "    next_state, reward, done, extra_info = env.step(action)\n",
        "    trajectory.append([state, action, reward, done, next_state])\n",
        "    state = next_state\n",
        "env.close()\n",
        "\n",
        "print(f\"Congrats! You just generated your first trajectory:\\n{trajectory}\")"
      ]
    },
    {
      "cell_type": "markdown",
      "metadata": {
        "id": "XVfo8JZipuoz"
      },
      "source": [
        "An episode is a trajectory that goes from the initial state of the process to the final one:\n",
        "\n",
        "\\begin{equation}\n",
        "  \\tau = S_0, A_0, R_1, S_1, A_1, ... R_T, S_T,\n",
        "\\end{equation}\n",
        "where T is the terminal state.\n",
        "\n",
        "Let's generate a whole episode in code:"
      ]
    },
    {
      "cell_type": "code",
      "execution_count": 15,
      "metadata": {
        "colab": {
          "base_uri": "https://localhost:8080/"
        },
        "id": "WvnLhBH9puoz",
        "outputId": "7bf7fa5b-2018-4f89-f5dc-196a640dcacc"
      },
      "outputs": [
        {
          "output_type": "stream",
          "name": "stdout",
          "text": [
            "Congrats! You just generated your first episode:\n",
            "[[(0, 0), 3, -1.0, False, (0, 0)], [(0, 0), 1, -1.0, False, (0, 1)], [(0, 1), 1, -1.0, False, (0, 2)], [(0, 2), 2, -1.0, False, (0, 2)], [(0, 2), 1, -1.0, False, (0, 3)], [(0, 3), 0, -1.0, False, (0, 3)], [(0, 3), 1, -1.0, False, (0, 4)], [(0, 4), 3, -1.0, False, (0, 3)], [(0, 3), 3, -1.0, False, (0, 2)], [(0, 2), 2, -1.0, False, (0, 2)], [(0, 2), 2, -1.0, False, (0, 2)], [(0, 2), 2, -1.0, False, (0, 2)], [(0, 2), 0, -1.0, False, (0, 2)], [(0, 2), 0, -1.0, False, (0, 2)], [(0, 2), 3, -1.0, False, (0, 1)], [(0, 1), 0, -1.0, False, (0, 1)], [(0, 1), 0, -1.0, False, (0, 1)], [(0, 1), 1, -1.0, False, (0, 2)], [(0, 2), 0, -1.0, False, (0, 2)], [(0, 2), 3, -1.0, False, (0, 1)], [(0, 1), 3, -1.0, False, (0, 0)], [(0, 0), 0, -1.0, False, (0, 0)], [(0, 0), 2, -1.0, False, (1, 0)], [(1, 0), 3, -1.0, False, (1, 0)], [(1, 0), 0, -1.0, False, (0, 0)], [(0, 0), 2, -1.0, False, (1, 0)], [(1, 0), 0, -1.0, False, (0, 0)], [(0, 0), 2, -1.0, False, (1, 0)], [(1, 0), 0, -1.0, False, (0, 0)], [(0, 0), 1, -1.0, False, (0, 1)], [(0, 1), 0, -1.0, False, (0, 1)], [(0, 1), 1, -1.0, False, (0, 2)], [(0, 2), 1, -1.0, False, (0, 3)], [(0, 3), 3, -1.0, False, (0, 2)], [(0, 2), 0, -1.0, False, (0, 2)], [(0, 2), 0, -1.0, False, (0, 2)], [(0, 2), 1, -1.0, False, (0, 3)], [(0, 3), 1, -1.0, False, (0, 4)], [(0, 4), 1, -1.0, False, (0, 4)], [(0, 4), 0, -1.0, False, (0, 4)], [(0, 4), 1, -1.0, False, (0, 4)], [(0, 4), 1, -1.0, False, (0, 4)], [(0, 4), 1, -1.0, False, (0, 4)], [(0, 4), 3, -1.0, False, (0, 3)], [(0, 3), 0, -1.0, False, (0, 3)], [(0, 3), 1, -1.0, False, (0, 4)], [(0, 4), 3, -1.0, False, (0, 3)], [(0, 3), 2, -1.0, False, (1, 3)], [(1, 3), 1, -1.0, False, (1, 3)], [(1, 3), 0, -1.0, False, (0, 3)], [(0, 3), 3, -1.0, False, (0, 2)], [(0, 2), 0, -1.0, False, (0, 2)], [(0, 2), 0, -1.0, False, (0, 2)], [(0, 2), 2, -1.0, False, (0, 2)], [(0, 2), 2, -1.0, False, (0, 2)], [(0, 2), 0, -1.0, False, (0, 2)], [(0, 2), 0, -1.0, False, (0, 2)], [(0, 2), 3, -1.0, False, (0, 1)], [(0, 1), 2, -1.0, False, (1, 1)], [(1, 1), 2, -1.0, False, (2, 1)], [(2, 1), 2, -1.0, False, (3, 1)], [(3, 1), 2, -1.0, False, (3, 1)], [(3, 1), 3, -1.0, False, (3, 1)], [(3, 1), 2, -1.0, False, (3, 1)], [(3, 1), 3, -1.0, False, (3, 1)], [(3, 1), 2, -1.0, False, (3, 1)], [(3, 1), 0, -1.0, False, (2, 1)], [(2, 1), 1, -1.0, False, (2, 1)], [(2, 1), 2, -1.0, False, (3, 1)], [(3, 1), 2, -1.0, False, (3, 1)], [(3, 1), 1, -1.0, False, (3, 1)], [(3, 1), 3, -1.0, False, (3, 1)], [(3, 1), 2, -1.0, False, (3, 1)], [(3, 1), 3, -1.0, False, (3, 1)], [(3, 1), 0, -1.0, False, (2, 1)], [(2, 1), 0, -1.0, False, (1, 1)], [(1, 1), 1, -1.0, False, (1, 1)], [(1, 1), 1, -1.0, False, (1, 1)], [(1, 1), 3, -1.0, False, (1, 1)], [(1, 1), 0, -1.0, False, (0, 1)], [(0, 1), 0, -1.0, False, (0, 1)], [(0, 1), 0, -1.0, False, (0, 1)], [(0, 1), 1, -1.0, False, (0, 2)], [(0, 2), 1, -1.0, False, (0, 3)], [(0, 3), 3, -1.0, False, (0, 2)], [(0, 2), 0, -1.0, False, (0, 2)], [(0, 2), 0, -1.0, False, (0, 2)], [(0, 2), 3, -1.0, False, (0, 1)], [(0, 1), 3, -1.0, False, (0, 0)], [(0, 0), 0, -1.0, False, (0, 0)], [(0, 0), 2, -1.0, False, (1, 0)], [(1, 0), 1, -1.0, False, (1, 0)], [(1, 0), 3, -1.0, False, (1, 0)], [(1, 0), 3, -1.0, False, (1, 0)], [(1, 0), 0, -1.0, False, (0, 0)], [(0, 0), 0, -1.0, False, (0, 0)], [(0, 0), 0, -1.0, False, (0, 0)], [(0, 0), 2, -1.0, False, (1, 0)], [(1, 0), 2, -1.0, False, (2, 0)], [(2, 0), 2, -1.0, False, (3, 0)], [(3, 0), 1, -1.0, False, (3, 0)], [(3, 0), 0, -1.0, False, (2, 0)], [(2, 0), 0, -1.0, False, (1, 0)], [(1, 0), 1, -1.0, False, (1, 0)], [(1, 0), 3, -1.0, False, (1, 0)], [(1, 0), 1, -1.0, False, (1, 0)], [(1, 0), 3, -1.0, False, (1, 0)], [(1, 0), 3, -1.0, False, (1, 0)], [(1, 0), 0, -1.0, False, (0, 0)], [(0, 0), 2, -1.0, False, (1, 0)], [(1, 0), 2, -1.0, False, (2, 0)], [(2, 0), 1, -1.0, False, (2, 0)], [(2, 0), 1, -1.0, False, (2, 0)], [(2, 0), 0, -1.0, False, (1, 0)], [(1, 0), 1, -1.0, False, (1, 0)], [(1, 0), 0, -1.0, False, (0, 0)], [(0, 0), 1, -1.0, False, (0, 1)], [(0, 1), 0, -1.0, False, (0, 1)], [(0, 1), 0, -1.0, False, (0, 1)], [(0, 1), 3, -1.0, False, (0, 0)], [(0, 0), 1, -1.0, False, (0, 1)], [(0, 1), 2, -1.0, False, (1, 1)], [(1, 1), 0, -1.0, False, (0, 1)], [(0, 1), 0, -1.0, False, (0, 1)], [(0, 1), 1, -1.0, False, (0, 2)], [(0, 2), 2, -1.0, False, (0, 2)], [(0, 2), 0, -1.0, False, (0, 2)], [(0, 2), 1, -1.0, False, (0, 3)], [(0, 3), 1, -1.0, False, (0, 4)], [(0, 4), 1, -1.0, False, (0, 4)], [(0, 4), 2, -1.0, False, (1, 4)], [(1, 4), 2, -1.0, False, (2, 4)], [(2, 4), 2, -1.0, False, (2, 4)], [(2, 4), 1, -1.0, False, (2, 4)], [(2, 4), 1, -1.0, False, (2, 4)], [(2, 4), 0, -1.0, False, (1, 4)], [(1, 4), 1, -1.0, False, (1, 4)], [(1, 4), 0, -1.0, False, (0, 4)], [(0, 4), 3, -1.0, False, (0, 3)], [(0, 3), 1, -1.0, False, (0, 4)], [(0, 4), 1, -1.0, False, (0, 4)], [(0, 4), 2, -1.0, False, (1, 4)], [(1, 4), 3, -1.0, False, (1, 4)], [(1, 4), 1, -1.0, False, (1, 4)], [(1, 4), 0, -1.0, False, (0, 4)], [(0, 4), 3, -1.0, False, (0, 3)], [(0, 3), 1, -1.0, False, (0, 4)], [(0, 4), 2, -1.0, False, (1, 4)], [(1, 4), 2, -1.0, False, (2, 4)], [(2, 4), 3, -1.0, False, (2, 4)], [(2, 4), 2, -1.0, False, (2, 4)], [(2, 4), 0, -1.0, False, (1, 4)], [(1, 4), 1, -1.0, False, (1, 4)], [(1, 4), 0, -1.0, False, (0, 4)], [(0, 4), 3, -1.0, False, (0, 3)], [(0, 3), 1, -1.0, False, (0, 4)], [(0, 4), 1, -1.0, False, (0, 4)], [(0, 4), 3, -1.0, False, (0, 3)], [(0, 3), 3, -1.0, False, (0, 2)], [(0, 2), 2, -1.0, False, (0, 2)], [(0, 2), 0, -1.0, False, (0, 2)], [(0, 2), 2, -1.0, False, (0, 2)], [(0, 2), 3, -1.0, False, (0, 1)], [(0, 1), 3, -1.0, False, (0, 0)], [(0, 0), 1, -1.0, False, (0, 1)], [(0, 1), 3, -1.0, False, (0, 0)], [(0, 0), 1, -1.0, False, (0, 1)], [(0, 1), 2, -1.0, False, (1, 1)], [(1, 1), 0, -1.0, False, (0, 1)], [(0, 1), 1, -1.0, False, (0, 2)], [(0, 2), 1, -1.0, False, (0, 3)], [(0, 3), 0, -1.0, False, (0, 3)], [(0, 3), 3, -1.0, False, (0, 2)], [(0, 2), 3, -1.0, False, (0, 1)], [(0, 1), 1, -1.0, False, (0, 2)], [(0, 2), 3, -1.0, False, (0, 1)], [(0, 1), 3, -1.0, False, (0, 0)], [(0, 0), 1, -1.0, False, (0, 1)], [(0, 1), 1, -1.0, False, (0, 2)], [(0, 2), 3, -1.0, False, (0, 1)], [(0, 1), 3, -1.0, False, (0, 0)], [(0, 0), 0, -1.0, False, (0, 0)], [(0, 0), 2, -1.0, False, (1, 0)], [(1, 0), 1, -1.0, False, (1, 0)], [(1, 0), 1, -1.0, False, (1, 0)], [(1, 0), 0, -1.0, False, (0, 0)], [(0, 0), 1, -1.0, False, (0, 1)], [(0, 1), 2, -1.0, False, (1, 1)], [(1, 1), 1, -1.0, False, (1, 1)], [(1, 1), 2, -1.0, False, (2, 1)], [(2, 1), 2, -1.0, False, (3, 1)], [(3, 1), 0, -1.0, False, (2, 1)], [(2, 1), 2, -1.0, False, (3, 1)], [(3, 1), 0, -1.0, False, (2, 1)], [(2, 1), 3, -1.0, False, (2, 1)], [(2, 1), 0, -1.0, False, (1, 1)], [(1, 1), 3, -1.0, False, (1, 1)], [(1, 1), 3, -1.0, False, (1, 1)], [(1, 1), 1, -1.0, False, (1, 1)], [(1, 1), 1, -1.0, False, (1, 1)], [(1, 1), 1, -1.0, False, (1, 1)], [(1, 1), 0, -1.0, False, (0, 1)], [(0, 1), 2, -1.0, False, (1, 1)], [(1, 1), 2, -1.0, False, (2, 1)], [(2, 1), 0, -1.0, False, (1, 1)], [(1, 1), 2, -1.0, False, (2, 1)], [(2, 1), 1, -1.0, False, (2, 1)], [(2, 1), 3, -1.0, False, (2, 1)], [(2, 1), 0, -1.0, False, (1, 1)], [(1, 1), 0, -1.0, False, (0, 1)], [(0, 1), 0, -1.0, False, (0, 1)], [(0, 1), 1, -1.0, False, (0, 2)], [(0, 2), 3, -1.0, False, (0, 1)], [(0, 1), 0, -1.0, False, (0, 1)], [(0, 1), 0, -1.0, False, (0, 1)], [(0, 1), 3, -1.0, False, (0, 0)], [(0, 0), 1, -1.0, False, (0, 1)], [(0, 1), 1, -1.0, False, (0, 2)], [(0, 2), 2, -1.0, False, (0, 2)], [(0, 2), 0, -1.0, False, (0, 2)], [(0, 2), 2, -1.0, False, (0, 2)], [(0, 2), 0, -1.0, False, (0, 2)], [(0, 2), 1, -1.0, False, (0, 3)], [(0, 3), 1, -1.0, False, (0, 4)], [(0, 4), 3, -1.0, False, (0, 3)], [(0, 3), 2, -1.0, False, (1, 3)], [(1, 3), 3, -1.0, False, (1, 3)], [(1, 3), 1, -1.0, False, (1, 3)], [(1, 3), 1, -1.0, False, (1, 3)], [(1, 3), 3, -1.0, False, (1, 3)], [(1, 3), 0, -1.0, False, (0, 3)], [(0, 3), 2, -1.0, False, (1, 3)], [(1, 3), 3, -1.0, False, (1, 3)], [(1, 3), 2, -1.0, False, (2, 3)], [(2, 3), 0, -1.0, False, (1, 3)], [(1, 3), 3, -1.0, False, (1, 3)], [(1, 3), 2, -1.0, False, (2, 3)], [(2, 3), 1, -1.0, False, (2, 3)], [(2, 3), 0, -1.0, False, (1, 3)], [(1, 3), 0, -1.0, False, (0, 3)], [(0, 3), 2, -1.0, False, (1, 3)], [(1, 3), 2, -1.0, False, (2, 3)], [(2, 3), 3, -1.0, False, (2, 2)], [(2, 2), 0, -1.0, False, (1, 2)], [(1, 2), 1, -1.0, False, (1, 2)], [(1, 2), 1, -1.0, False, (1, 2)], [(1, 2), 2, -1.0, False, (2, 2)], [(2, 2), 2, -1.0, False, (2, 2)], [(2, 2), 3, -1.0, False, (2, 2)], [(2, 2), 0, -1.0, False, (1, 2)], [(1, 2), 2, -1.0, False, (2, 2)], [(2, 2), 3, -1.0, False, (2, 2)], [(2, 2), 1, -1.0, False, (2, 3)], [(2, 3), 3, -1.0, False, (2, 2)], [(2, 2), 2, -1.0, False, (2, 2)], [(2, 2), 3, -1.0, False, (2, 2)], [(2, 2), 1, -1.0, False, (2, 3)], [(2, 3), 2, -1.0, False, (2, 3)], [(2, 3), 0, -1.0, False, (1, 3)], [(1, 3), 2, -1.0, False, (2, 3)], [(2, 3), 0, -1.0, False, (1, 3)], [(1, 3), 1, -1.0, False, (1, 3)], [(1, 3), 1, -1.0, False, (1, 3)], [(1, 3), 3, -1.0, False, (1, 3)], [(1, 3), 0, -1.0, False, (0, 3)], [(0, 3), 1, -1.0, False, (0, 4)], [(0, 4), 1, -1.0, False, (0, 4)], [(0, 4), 1, -1.0, False, (0, 4)], [(0, 4), 0, -1.0, False, (0, 4)], [(0, 4), 3, -1.0, False, (0, 3)], [(0, 3), 1, -1.0, False, (0, 4)], [(0, 4), 2, -1.0, False, (1, 4)], [(1, 4), 3, -1.0, False, (1, 4)], [(1, 4), 1, -1.0, False, (1, 4)], [(1, 4), 0, -1.0, False, (0, 4)], [(0, 4), 2, -1.0, False, (1, 4)], [(1, 4), 3, -1.0, False, (1, 4)], [(1, 4), 3, -1.0, False, (1, 4)], [(1, 4), 1, -1.0, False, (1, 4)], [(1, 4), 3, -1.0, False, (1, 4)], [(1, 4), 3, -1.0, False, (1, 4)], [(1, 4), 2, -1.0, False, (2, 4)], [(2, 4), 1, -1.0, False, (2, 4)], [(2, 4), 0, -1.0, False, (1, 4)], [(1, 4), 1, -1.0, False, (1, 4)], [(1, 4), 3, -1.0, False, (1, 4)], [(1, 4), 2, -1.0, False, (2, 4)], [(2, 4), 3, -1.0, False, (2, 4)], [(2, 4), 2, -1.0, False, (2, 4)], [(2, 4), 2, -1.0, False, (2, 4)], [(2, 4), 0, -1.0, False, (1, 4)], [(1, 4), 0, -1.0, False, (0, 4)], [(0, 4), 3, -1.0, False, (0, 3)], [(0, 3), 1, -1.0, False, (0, 4)], [(0, 4), 1, -1.0, False, (0, 4)], [(0, 4), 2, -1.0, False, (1, 4)], [(1, 4), 3, -1.0, False, (1, 4)], [(1, 4), 0, -1.0, False, (0, 4)], [(0, 4), 0, -1.0, False, (0, 4)], [(0, 4), 3, -1.0, False, (0, 3)], [(0, 3), 3, -1.0, False, (0, 2)], [(0, 2), 2, -1.0, False, (0, 2)], [(0, 2), 3, -1.0, False, (0, 1)], [(0, 1), 1, -1.0, False, (0, 2)], [(0, 2), 0, -1.0, False, (0, 2)], [(0, 2), 0, -1.0, False, (0, 2)], [(0, 2), 2, -1.0, False, (0, 2)], [(0, 2), 3, -1.0, False, (0, 1)], [(0, 1), 1, -1.0, False, (0, 2)], [(0, 2), 3, -1.0, False, (0, 1)], [(0, 1), 2, -1.0, False, (1, 1)], [(1, 1), 3, -1.0, False, (1, 1)], [(1, 1), 2, -1.0, False, (2, 1)], [(2, 1), 2, -1.0, False, (3, 1)], [(3, 1), 0, -1.0, False, (2, 1)], [(2, 1), 2, -1.0, False, (3, 1)], [(3, 1), 0, -1.0, False, (2, 1)], [(2, 1), 1, -1.0, False, (2, 1)], [(2, 1), 1, -1.0, False, (2, 1)], [(2, 1), 2, -1.0, False, (3, 1)], [(3, 1), 3, -1.0, False, (3, 1)], [(3, 1), 2, -1.0, False, (3, 1)], [(3, 1), 0, -1.0, False, (2, 1)], [(2, 1), 2, -1.0, False, (3, 1)], [(3, 1), 1, -1.0, False, (3, 1)], [(3, 1), 3, -1.0, False, (3, 1)], [(3, 1), 3, -1.0, False, (3, 1)], [(3, 1), 0, -1.0, False, (2, 1)], [(2, 1), 1, -1.0, False, (2, 1)], [(2, 1), 0, -1.0, False, (1, 1)], [(1, 1), 2, -1.0, False, (2, 1)], [(2, 1), 1, -1.0, False, (2, 1)], [(2, 1), 3, -1.0, False, (2, 1)], [(2, 1), 2, -1.0, False, (3, 1)], [(3, 1), 3, -1.0, False, (3, 1)], [(3, 1), 3, -1.0, False, (3, 1)], [(3, 1), 3, -1.0, False, (3, 1)], [(3, 1), 2, -1.0, False, (3, 1)], [(3, 1), 3, -1.0, False, (3, 1)], [(3, 1), 2, -1.0, False, (3, 1)], [(3, 1), 1, -1.0, False, (3, 1)], [(3, 1), 1, -1.0, False, (3, 1)], [(3, 1), 2, -1.0, False, (3, 1)], [(3, 1), 1, -1.0, False, (3, 1)], [(3, 1), 1, -1.0, False, (3, 1)], [(3, 1), 0, -1.0, False, (2, 1)], [(2, 1), 1, -1.0, False, (2, 1)], [(2, 1), 1, -1.0, False, (2, 1)], [(2, 1), 3, -1.0, False, (2, 1)], [(2, 1), 3, -1.0, False, (2, 1)], [(2, 1), 3, -1.0, False, (2, 1)], [(2, 1), 3, -1.0, False, (2, 1)], [(2, 1), 3, -1.0, False, (2, 1)], [(2, 1), 2, -1.0, False, (3, 1)], [(3, 1), 1, -1.0, False, (3, 1)], [(3, 1), 0, -1.0, False, (2, 1)], [(2, 1), 0, -1.0, False, (1, 1)], [(1, 1), 0, -1.0, False, (0, 1)], [(0, 1), 0, -1.0, False, (0, 1)], [(0, 1), 0, -1.0, False, (0, 1)], [(0, 1), 2, -1.0, False, (1, 1)], [(1, 1), 2, -1.0, False, (2, 1)], [(2, 1), 0, -1.0, False, (1, 1)], [(1, 1), 0, -1.0, False, (0, 1)], [(0, 1), 1, -1.0, False, (0, 2)], [(0, 2), 3, -1.0, False, (0, 1)], [(0, 1), 1, -1.0, False, (0, 2)], [(0, 2), 1, -1.0, False, (0, 3)], [(0, 3), 2, -1.0, False, (1, 3)], [(1, 3), 3, -1.0, False, (1, 3)], [(1, 3), 0, -1.0, False, (0, 3)], [(0, 3), 0, -1.0, False, (0, 3)], [(0, 3), 3, -1.0, False, (0, 2)], [(0, 2), 0, -1.0, False, (0, 2)], [(0, 2), 3, -1.0, False, (0, 1)], [(0, 1), 2, -1.0, False, (1, 1)], [(1, 1), 3, -1.0, False, (1, 1)], [(1, 1), 2, -1.0, False, (2, 1)], [(2, 1), 2, -1.0, False, (3, 1)], [(3, 1), 2, -1.0, False, (3, 1)], [(3, 1), 3, -1.0, False, (3, 1)], [(3, 1), 3, -1.0, False, (3, 1)], [(3, 1), 2, -1.0, False, (3, 1)], [(3, 1), 0, -1.0, False, (2, 1)], [(2, 1), 0, -1.0, False, (1, 1)], [(1, 1), 3, -1.0, False, (1, 1)], [(1, 1), 1, -1.0, False, (1, 1)], [(1, 1), 2, -1.0, False, (2, 1)], [(2, 1), 2, -1.0, False, (3, 1)], [(3, 1), 0, -1.0, False, (2, 1)], [(2, 1), 0, -1.0, False, (1, 1)], [(1, 1), 2, -1.0, False, (2, 1)], [(2, 1), 3, -1.0, False, (2, 1)], [(2, 1), 0, -1.0, False, (1, 1)], [(1, 1), 0, -1.0, False, (0, 1)], [(0, 1), 3, -1.0, False, (0, 0)], [(0, 0), 0, -1.0, False, (0, 0)], [(0, 0), 3, -1.0, False, (0, 0)], [(0, 0), 0, -1.0, False, (0, 0)], [(0, 0), 1, -1.0, False, (0, 1)], [(0, 1), 0, -1.0, False, (0, 1)], [(0, 1), 2, -1.0, False, (1, 1)], [(1, 1), 0, -1.0, False, (0, 1)], [(0, 1), 0, -1.0, False, (0, 1)], [(0, 1), 3, -1.0, False, (0, 0)], [(0, 0), 3, -1.0, False, (0, 0)], [(0, 0), 1, -1.0, False, (0, 1)], [(0, 1), 1, -1.0, False, (0, 2)], [(0, 2), 1, -1.0, False, (0, 3)], [(0, 3), 2, -1.0, False, (1, 3)], [(1, 3), 3, -1.0, False, (1, 3)], [(1, 3), 3, -1.0, False, (1, 3)], [(1, 3), 2, -1.0, False, (2, 3)], [(2, 3), 1, -1.0, False, (2, 3)], [(2, 3), 2, -1.0, False, (2, 3)], [(2, 3), 2, -1.0, False, (2, 3)], [(2, 3), 2, -1.0, False, (2, 3)], [(2, 3), 1, -1.0, False, (2, 3)], [(2, 3), 0, -1.0, False, (1, 3)], [(1, 3), 2, -1.0, False, (2, 3)], [(2, 3), 0, -1.0, False, (1, 3)], [(1, 3), 0, -1.0, False, (0, 3)], [(0, 3), 1, -1.0, False, (0, 4)], [(0, 4), 0, -1.0, False, (0, 4)], [(0, 4), 3, -1.0, False, (0, 3)], [(0, 3), 1, -1.0, False, (0, 4)], [(0, 4), 0, -1.0, False, (0, 4)], [(0, 4), 3, -1.0, False, (0, 3)], [(0, 3), 1, -1.0, False, (0, 4)], [(0, 4), 3, -1.0, False, (0, 3)], [(0, 3), 0, -1.0, False, (0, 3)], [(0, 3), 0, -1.0, False, (0, 3)], [(0, 3), 2, -1.0, False, (1, 3)], [(1, 3), 2, -1.0, False, (2, 3)], [(2, 3), 3, -1.0, False, (2, 2)], [(2, 2), 1, -1.0, False, (2, 3)], [(2, 3), 2, -1.0, False, (2, 3)], [(2, 3), 1, -1.0, False, (2, 3)], [(2, 3), 3, -1.0, False, (2, 2)], [(2, 2), 1, -1.0, False, (2, 3)], [(2, 3), 3, -1.0, False, (2, 2)], [(2, 2), 2, -1.0, False, (2, 2)], [(2, 2), 1, -1.0, False, (2, 3)], [(2, 3), 0, -1.0, False, (1, 3)], [(1, 3), 3, -1.0, False, (1, 3)], [(1, 3), 3, -1.0, False, (1, 3)], [(1, 3), 3, -1.0, False, (1, 3)], [(1, 3), 1, -1.0, False, (1, 3)], [(1, 3), 0, -1.0, False, (0, 3)], [(0, 3), 2, -1.0, False, (1, 3)], [(1, 3), 0, -1.0, False, (0, 3)], [(0, 3), 3, -1.0, False, (0, 2)], [(0, 2), 1, -1.0, False, (0, 3)], [(0, 3), 3, -1.0, False, (0, 2)], [(0, 2), 1, -1.0, False, (0, 3)], [(0, 3), 1, -1.0, False, (0, 4)], [(0, 4), 1, -1.0, False, (0, 4)], [(0, 4), 0, -1.0, False, (0, 4)], [(0, 4), 2, -1.0, False, (1, 4)], [(1, 4), 0, -1.0, False, (0, 4)], [(0, 4), 1, -1.0, False, (0, 4)], [(0, 4), 2, -1.0, False, (1, 4)], [(1, 4), 0, -1.0, False, (0, 4)], [(0, 4), 1, -1.0, False, (0, 4)], [(0, 4), 3, -1.0, False, (0, 3)], [(0, 3), 3, -1.0, False, (0, 2)], [(0, 2), 0, -1.0, False, (0, 2)], [(0, 2), 1, -1.0, False, (0, 3)], [(0, 3), 2, -1.0, False, (1, 3)], [(1, 3), 0, -1.0, False, (0, 3)], [(0, 3), 2, -1.0, False, (1, 3)], [(1, 3), 1, -1.0, False, (1, 3)], [(1, 3), 3, -1.0, False, (1, 3)], [(1, 3), 2, -1.0, False, (2, 3)], [(2, 3), 0, -1.0, False, (1, 3)], [(1, 3), 1, -1.0, False, (1, 3)], [(1, 3), 0, -1.0, False, (0, 3)], [(0, 3), 0, -1.0, False, (0, 3)], [(0, 3), 1, -1.0, False, (0, 4)], [(0, 4), 0, -1.0, False, (0, 4)], [(0, 4), 1, -1.0, False, (0, 4)], [(0, 4), 1, -1.0, False, (0, 4)], [(0, 4), 2, -1.0, False, (1, 4)], [(1, 4), 3, -1.0, False, (1, 4)], [(1, 4), 0, -1.0, False, (0, 4)], [(0, 4), 0, -1.0, False, (0, 4)], [(0, 4), 0, -1.0, False, (0, 4)], [(0, 4), 2, -1.0, False, (1, 4)], [(1, 4), 2, -1.0, False, (2, 4)], [(2, 4), 2, -1.0, False, (2, 4)], [(2, 4), 2, -1.0, False, (2, 4)], [(2, 4), 2, -1.0, False, (2, 4)], [(2, 4), 2, -1.0, False, (2, 4)], [(2, 4), 1, -1.0, False, (2, 4)], [(2, 4), 2, -1.0, False, (2, 4)], [(2, 4), 2, -1.0, False, (2, 4)], [(2, 4), 3, -1.0, False, (2, 4)], [(2, 4), 1, -1.0, False, (2, 4)], [(2, 4), 1, -1.0, False, (2, 4)], [(2, 4), 1, -1.0, False, (2, 4)], [(2, 4), 3, -1.0, False, (2, 4)], [(2, 4), 1, -1.0, False, (2, 4)], [(2, 4), 1, -1.0, False, (2, 4)], [(2, 4), 3, -1.0, False, (2, 4)], [(2, 4), 1, -1.0, False, (2, 4)], [(2, 4), 2, -1.0, False, (2, 4)], [(2, 4), 3, -1.0, False, (2, 4)], [(2, 4), 3, -1.0, False, (2, 4)], [(2, 4), 1, -1.0, False, (2, 4)], [(2, 4), 2, -1.0, False, (2, 4)], [(2, 4), 3, -1.0, False, (2, 4)], [(2, 4), 2, -1.0, False, (2, 4)], [(2, 4), 3, -1.0, False, (2, 4)], [(2, 4), 3, -1.0, False, (2, 4)], [(2, 4), 1, -1.0, False, (2, 4)], [(2, 4), 0, -1.0, False, (1, 4)], [(1, 4), 2, -1.0, False, (2, 4)], [(2, 4), 2, -1.0, False, (2, 4)], [(2, 4), 3, -1.0, False, (2, 4)], [(2, 4), 2, -1.0, False, (2, 4)], [(2, 4), 0, -1.0, False, (1, 4)], [(1, 4), 1, -1.0, False, (1, 4)], [(1, 4), 2, -1.0, False, (2, 4)], [(2, 4), 2, -1.0, False, (2, 4)], [(2, 4), 2, -1.0, False, (2, 4)], [(2, 4), 1, -1.0, False, (2, 4)], [(2, 4), 0, -1.0, False, (1, 4)], [(1, 4), 2, -1.0, False, (2, 4)], [(2, 4), 3, -1.0, False, (2, 4)], [(2, 4), 2, -1.0, False, (2, 4)], [(2, 4), 0, -1.0, False, (1, 4)], [(1, 4), 1, -1.0, False, (1, 4)], [(1, 4), 2, -1.0, False, (2, 4)], [(2, 4), 1, -1.0, False, (2, 4)], [(2, 4), 1, -1.0, False, (2, 4)], [(2, 4), 2, -1.0, False, (2, 4)], [(2, 4), 3, -1.0, False, (2, 4)], [(2, 4), 3, -1.0, False, (2, 4)], [(2, 4), 1, -1.0, False, (2, 4)], [(2, 4), 1, -1.0, False, (2, 4)], [(2, 4), 3, -1.0, False, (2, 4)], [(2, 4), 1, -1.0, False, (2, 4)], [(2, 4), 3, -1.0, False, (2, 4)], [(2, 4), 3, -1.0, False, (2, 4)], [(2, 4), 1, -1.0, False, (2, 4)], [(2, 4), 0, -1.0, False, (1, 4)], [(1, 4), 2, -1.0, False, (2, 4)], [(2, 4), 1, -1.0, False, (2, 4)], [(2, 4), 0, -1.0, False, (1, 4)], [(1, 4), 0, -1.0, False, (0, 4)], [(0, 4), 2, -1.0, False, (1, 4)], [(1, 4), 3, -1.0, False, (1, 4)], [(1, 4), 0, -1.0, False, (0, 4)], [(0, 4), 2, -1.0, False, (1, 4)], [(1, 4), 1, -1.0, False, (1, 4)], [(1, 4), 1, -1.0, False, (1, 4)], [(1, 4), 3, -1.0, False, (1, 4)], [(1, 4), 3, -1.0, False, (1, 4)], [(1, 4), 2, -1.0, False, (2, 4)], [(2, 4), 0, -1.0, False, (1, 4)], [(1, 4), 2, -1.0, False, (2, 4)], [(2, 4), 3, -1.0, False, (2, 4)], [(2, 4), 2, -1.0, False, (2, 4)], [(2, 4), 2, -1.0, False, (2, 4)], [(2, 4), 1, -1.0, False, (2, 4)], [(2, 4), 1, -1.0, False, (2, 4)], [(2, 4), 2, -1.0, False, (2, 4)], [(2, 4), 0, -1.0, False, (1, 4)], [(1, 4), 3, -1.0, False, (1, 4)], [(1, 4), 0, -1.0, False, (0, 4)], [(0, 4), 0, -1.0, False, (0, 4)], [(0, 4), 1, -1.0, False, (0, 4)], [(0, 4), 2, -1.0, False, (1, 4)], [(1, 4), 2, -1.0, False, (2, 4)], [(2, 4), 0, -1.0, False, (1, 4)], [(1, 4), 0, -1.0, False, (0, 4)], [(0, 4), 1, -1.0, False, (0, 4)], [(0, 4), 3, -1.0, False, (0, 3)], [(0, 3), 0, -1.0, False, (0, 3)], [(0, 3), 3, -1.0, False, (0, 2)], [(0, 2), 0, -1.0, False, (0, 2)], [(0, 2), 3, -1.0, False, (0, 1)], [(0, 1), 2, -1.0, False, (1, 1)], [(1, 1), 3, -1.0, False, (1, 1)], [(1, 1), 2, -1.0, False, (2, 1)], [(2, 1), 3, -1.0, False, (2, 1)], [(2, 1), 0, -1.0, False, (1, 1)], [(1, 1), 0, -1.0, False, (0, 1)], [(0, 1), 0, -1.0, False, (0, 1)], [(0, 1), 2, -1.0, False, (1, 1)], [(1, 1), 0, -1.0, False, (0, 1)], [(0, 1), 2, -1.0, False, (1, 1)], [(1, 1), 3, -1.0, False, (1, 1)], [(1, 1), 0, -1.0, False, (0, 1)], [(0, 1), 3, -1.0, False, (0, 0)], [(0, 0), 3, -1.0, False, (0, 0)], [(0, 0), 1, -1.0, False, (0, 1)], [(0, 1), 2, -1.0, False, (1, 1)], [(1, 1), 0, -1.0, False, (0, 1)], [(0, 1), 3, -1.0, False, (0, 0)], [(0, 0), 0, -1.0, False, (0, 0)], [(0, 0), 0, -1.0, False, (0, 0)], [(0, 0), 0, -1.0, False, (0, 0)], [(0, 0), 0, -1.0, False, (0, 0)], [(0, 0), 1, -1.0, False, (0, 1)], [(0, 1), 1, -1.0, False, (0, 2)], [(0, 2), 3, -1.0, False, (0, 1)], [(0, 1), 3, -1.0, False, (0, 0)], [(0, 0), 2, -1.0, False, (1, 0)], [(1, 0), 1, -1.0, False, (1, 0)], [(1, 0), 3, -1.0, False, (1, 0)], [(1, 0), 2, -1.0, False, (2, 0)], [(2, 0), 0, -1.0, False, (1, 0)], [(1, 0), 1, -1.0, False, (1, 0)], [(1, 0), 2, -1.0, False, (2, 0)], [(2, 0), 1, -1.0, False, (2, 0)], [(2, 0), 0, -1.0, False, (1, 0)], [(1, 0), 1, -1.0, False, (1, 0)], [(1, 0), 1, -1.0, False, (1, 0)], [(1, 0), 2, -1.0, False, (2, 0)], [(2, 0), 0, -1.0, False, (1, 0)], [(1, 0), 2, -1.0, False, (2, 0)], [(2, 0), 0, -1.0, False, (1, 0)], [(1, 0), 0, -1.0, False, (0, 0)], [(0, 0), 3, -1.0, False, (0, 0)], [(0, 0), 2, -1.0, False, (1, 0)], [(1, 0), 2, -1.0, False, (2, 0)], [(2, 0), 3, -1.0, False, (2, 0)], [(2, 0), 1, -1.0, False, (2, 0)], [(2, 0), 2, -1.0, False, (3, 0)], [(3, 0), 1, -1.0, False, (3, 0)], [(3, 0), 3, -1.0, False, (3, 0)], [(3, 0), 1, -1.0, False, (3, 0)], [(3, 0), 0, -1.0, False, (2, 0)], [(2, 0), 2, -1.0, False, (3, 0)], [(3, 0), 0, -1.0, False, (2, 0)], [(2, 0), 2, -1.0, False, (3, 0)], [(3, 0), 0, -1.0, False, (2, 0)], [(2, 0), 3, -1.0, False, (2, 0)], [(2, 0), 0, -1.0, False, (1, 0)], [(1, 0), 2, -1.0, False, (2, 0)], [(2, 0), 0, -1.0, False, (1, 0)], [(1, 0), 3, -1.0, False, (1, 0)], [(1, 0), 2, -1.0, False, (2, 0)], [(2, 0), 0, -1.0, False, (1, 0)], [(1, 0), 1, -1.0, False, (1, 0)], [(1, 0), 2, -1.0, False, (2, 0)], [(2, 0), 2, -1.0, False, (3, 0)], [(3, 0), 2, -1.0, False, (4, 0)], [(4, 0), 0, -1.0, False, (3, 0)], [(3, 0), 2, -1.0, False, (4, 0)], [(4, 0), 2, -1.0, False, (4, 0)], [(4, 0), 1, -1.0, False, (4, 1)], [(4, 1), 1, -1.0, False, (4, 2)], [(4, 2), 3, -1.0, False, (4, 1)], [(4, 1), 1, -1.0, False, (4, 2)], [(4, 2), 2, -1.0, False, (4, 2)], [(4, 2), 1, -1.0, False, (4, 2)], [(4, 2), 2, -1.0, False, (4, 2)], [(4, 2), 0, -1.0, False, (3, 2)], [(3, 2), 0, -1.0, False, (3, 2)], [(3, 2), 3, -1.0, False, (3, 2)], [(3, 2), 3, -1.0, False, (3, 2)], [(3, 2), 2, -1.0, False, (4, 2)], [(4, 2), 2, -1.0, False, (4, 2)], [(4, 2), 0, -1.0, False, (3, 2)], [(3, 2), 3, -1.0, False, (3, 2)], [(3, 2), 0, -1.0, False, (3, 2)], [(3, 2), 0, -1.0, False, (3, 2)], [(3, 2), 3, -1.0, False, (3, 2)], [(3, 2), 0, -1.0, False, (3, 2)], [(3, 2), 3, -1.0, False, (3, 2)], [(3, 2), 1, -1.0, False, (3, 3)], [(3, 3), 2, -1.0, False, (4, 3)], [(4, 3), 2, -1.0, False, (4, 3)], [(4, 3), 1, -1.0, True, (4, 4)]]\n"
          ]
        }
      ],
      "source": [
        "env = Maze()\n",
        "state = env.reset()\n",
        "episode = []\n",
        "done = False\n",
        "while not done:\n",
        "    action = env.action_space.sample()\n",
        "    next_state, reward, done, extra_info = env.step(action)\n",
        "    episode.append([state, action, reward, done, next_state])\n",
        "    state = next_state\n",
        "env.close()\n",
        "\n",
        "print(f\"Congrats! You just generated your first episode:\\n{episode}\")"
      ]
    },
    {
      "cell_type": "markdown",
      "metadata": {
        "id": "EovKH398puoz"
      },
      "source": [
        "##### Rewards and returns\n",
        "\n",
        "A reward is numerical feedback that the environment generates when the agent takes an action *a* in a state *s*:\n",
        "\n",
        "\\begin{equation}\n",
        "    r = r(s, a)\n",
        "\\end{equation}\n",
        "\n",
        "Let's generate a reward from the environment:"
      ]
    },
    {
      "cell_type": "code",
      "execution_count": 16,
      "metadata": {
        "colab": {
          "base_uri": "https://localhost:8080/"
        },
        "id": "77dMu0jrpuoz",
        "outputId": "a8204ca8-a94f-4506-c716-586ffd23adc0"
      },
      "outputs": [
        {
          "output_type": "stream",
          "name": "stdout",
          "text": [
            "We achieved a reward of -1.0 by taking action 0 in state (0, 0)\n"
          ]
        }
      ],
      "source": [
        "env = Maze()\n",
        "state = env.reset()\n",
        "action = env.action_space.sample()\n",
        "_, reward, _, _ = env.step(action)\n",
        "print(f\"We achieved a reward of {reward} by taking action {action} in state {state}\")"
      ]
    },
    {
      "cell_type": "markdown",
      "metadata": {
        "id": "zuajNSlmpuoz"
      },
      "source": [
        "The return associated with a moment in time *t* is the sum (discounted) of rewards that the agent obtains from that moment. We are going to calculate $G_0$, that is, the return to the beginning of the episode:\n",
        "\n",
        "\\begin{equation}\n",
        "    G_0 = R_1 + \\gamma R_2 + \\gamma^2 R_3 + ... + \\gamma^{T-1} R_T\n",
        "\\end{equation}\n",
        "\n",
        "\n",
        "\n",
        "Let's assume that the discount factor $\\gamma = 0.99$:\n"
      ]
    },
    {
      "cell_type": "code",
      "execution_count": 18,
      "metadata": {
        "colab": {
          "base_uri": "https://localhost:8080/"
        },
        "id": "VhMJqNJqpuo0",
        "outputId": "cf1f0728-e25b-4c3d-bd6f-aba797cec6b4"
      },
      "outputs": [
        {
          "output_type": "stream",
          "name": "stdout",
          "text": [
            "It took us 506 moves to find the exit, \n",
            "    and each reward r(s,a)=-1, so the return amounts to -99.38140206435904\n"
          ]
        }
      ],
      "source": [
        "env = Maze()\n",
        "state = env.reset()\n",
        "done = False\n",
        "gamma = 0.99\n",
        "G_0 = 0\n",
        "t = 0\n",
        "while not done:\n",
        "    action = env.action_space.sample()\n",
        "    _, reward, done, _ = env.step(action)\n",
        "    G_0 += gamma ** t * reward\n",
        "    t += 1\n",
        "env.close()\n",
        "\n",
        "print(\n",
        "    f\"\"\"It took us {t} moves to find the exit, \n",
        "    and each reward r(s,a)=-1, so the return amounts to {G_0}\"\"\")"
      ]
    },
    {
      "cell_type": "markdown",
      "metadata": {
        "id": "jJC0BOVVpuo0"
      },
      "source": [
        "##### Policy\n",
        "\n",
        "A policy is a function $\\pi(a|s) \\in [0, 1]$ that gives the probability of an action given the current state. The function takes the state and action as inputs and returns a float in [0,1]. \n",
        "\n",
        "Since in practice we will need to compute the probabilities of all actions, we will represent the policy as a function that takes the state as an argument and returns the probabilities associated with each of the actions. Thus, if the probabilities are:\n",
        "\n",
        "[0.5, 0.3, 0.1]\n",
        "\n",
        "we will understand that the action with index 0 has a 50% probability of being chosen, the one with index 1 has 30% and the one with index 2 has 10%.\n",
        "\n",
        "Let's code a policy function that chooses actions randomly:"
      ]
    },
    {
      "cell_type": "code",
      "execution_count": 19,
      "metadata": {
        "id": "8jNt5gxopuo0"
      },
      "outputs": [],
      "source": [
        "def random_policy(state):\n",
        "    return np.array([0.25] * 4)"
      ]
    },
    {
      "cell_type": "markdown",
      "metadata": {
        "id": "HbL__Pwcpuo0"
      },
      "source": [
        "## Playing an episode with our random policy"
      ]
    },
    {
      "cell_type": "markdown",
      "metadata": {
        "id": "OIiiCmanpuo1"
      },
      "source": [
        "###### Create and reset the environment"
      ]
    },
    {
      "cell_type": "code",
      "execution_count": 20,
      "metadata": {
        "id": "Fy8IiqAepuo1"
      },
      "outputs": [],
      "source": [
        "env = Maze()\n",
        "state = env.reset()"
      ]
    },
    {
      "cell_type": "markdown",
      "metadata": {
        "id": "hKgyCvbZpuo1"
      },
      "source": [
        "###### Compute $p(a|s) \\; \\forall a \\in \\{0, 1, 2, 3\\}$"
      ]
    },
    {
      "cell_type": "code",
      "execution_count": 21,
      "metadata": {
        "id": "avP76Uqmpuo1"
      },
      "outputs": [],
      "source": [
        "action_probabilities = random_policy(state)"
      ]
    },
    {
      "cell_type": "code",
      "execution_count": 22,
      "metadata": {
        "colab": {
          "base_uri": "https://localhost:8080/",
          "height": 487
        },
        "id": "qZjS6qJvpuo1",
        "outputId": "8ad99899-fbad-43d9-9c43-b7dd73ddc60b"
      },
      "outputs": [
        {
          "output_type": "display_data",
          "data": {
            "text/plain": [
              "<Figure size 640x480 with 1 Axes>"
            ],
            "image/png": "[encoded data removed]"
          },
          "metadata": {}
        }
      ],
      "source": [
        "objects = ('Up', 'Right', 'Down', 'Left')\n",
        "y_pos = np.arange(len(objects))\n",
        "\n",
        "plt.bar(y_pos, action_probabilities, alpha=0.5)\n",
        "plt.xticks(y_pos, objects)\n",
        "plt.ylabel('P(a|s)')\n",
        "plt.title('Random Policy')\n",
        "plt.tight_layout()\n",
        "\n",
        "plt.show()"
      ]
    },
    {
      "cell_type": "markdown",
      "metadata": {
        "id": "rnXuEVqVpuo2"
      },
      "source": [
        "###### Use the policy to play an episode"
      ]
    },
    {
      "cell_type": "code",
      "execution_count": null,
      "metadata": {
        "colab": {
          "base_uri": "https://localhost:8080/",
          "height": 406
        },
        "id": "6c9AOipLpuo2",
        "outputId": "6f336235-b65b-431c-e426-90345c6400d4"
      },
      "outputs": [
        {
          "output_type": "display_data",
          "data": {
            "text/plain": [
              "<Figure size 640x480 with 1 Axes>"
            ],
            "image/png": "[encoded data removed]"
          },
          "metadata": {}
        }
      ],
      "source": [
        "env.reset()\n",
        "done = False\n",
        "img = plt.imshow(env.render(mode='rgb_array')) \n",
        "while not done:\n",
        "    action = np.random.choice(range(4), 1, p=action_probabilities)\n",
        "    _, _, done, _ = env.step(action)\n",
        "    img.set_data(env.render(mode='rgb_array')) \n",
        "    plt.axis('off')\n",
        "    display.display(plt.gcf())\n",
        "    display.clear_output(wait=True)\n",
        "env.close()"
      ]
    },
    {
      "cell_type": "markdown",
      "metadata": {
        "id": "SIQA-ZdYpuo2"
      },
      "source": [
        "## Resources"
      ]
    },
    {
      "cell_type": "markdown",
      "metadata": {
        "id": "Y2MV9yM7puo3"
      },
      "source": [
        "[[1] OpenAI gym: classic control environments](https://gym.openai.com/envs/#classic_control)\n",
        "\n",
        "[2] https://github.com/escape-velocity-labs/beginner_master_rl"
      ]
    },
    {
      "cell_type": "code",
      "source": [],
      "metadata": {
        "id": "Oa8mScqVqRKD"
      },
      "execution_count": null,
      "outputs": []
    }
  ],
  "metadata": {
    "kernelspec": {
      "display_name": "Python 3",
      "language": "python",
      "name": "python3"
    },
    "language_info": {
      "codemirror_mode": {
        "name": "ipython",
        "version": 3
      },
      "file_extension": ".py",
      "mimetype": "text/x-python",
      "name": "python",
      "nbconvert_exporter": "python",
      "pygments_lexer": "ipython3",
      "version": "3.8.5"
    },
    "colab": {
      "provenance": [],
      "include_colab_link": true
    }
  },
  "nbformat": 4,
  "nbformat_minor": 0
}