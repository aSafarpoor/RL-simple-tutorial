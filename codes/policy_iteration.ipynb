{
  "cells": [
    {
      "cell_type": "markdown",
      "metadata": {
        "id": "view-in-github",
        "colab_type": "text"
      },
      "source": [
        "<a href=\"https://colab.research.google.com/github/aSafarpoor/RL-simple-tutorial/blob/main/codes/policy_iteration.ipynb\" target=\"_parent\"><img src=\"https://colab.research.google.com/assets/colab-badge.svg\" alt=\"Open In Colab\"/></a>"
      ]
    },
    {
      "cell_type": "markdown",
      "metadata": {
        "pycharm": {
          "name": "#%%\n"
        },
        "id": "jz6lhjmfVnEX"
      },
      "source": [
        "<div style=\"text-align:center\">\n",
        "    <h1>\n",
        "        Policy Iteration\n",
        "    </h1>\n",
        "</div>\n",
        "<br>\n",
        "\n",
        "<div style=\"text-align:center\">\n",
        "    <p>\n",
        "        In this notebook we are going to look at a dynamic programming algorithm called policy iteration. In it, we will iteratively interleave two processes: policy evaluation and policy improvement, until the optimal policy and state values are found.\n",
        "    </p>\n",
        "</div>\n",
        "\n",
        "\n",
        "**This notebook belongs to section 3 of the course \"Reinforcement Learning: beginner to master\".**"
      ]
    },
    {
      "cell_type": "markdown",
      "metadata": {
        "id": "PyCYxZsCVnEa"
      },
      "source": [
        "## Import the necessary software libraries:"
      ]
    },
    {
      "cell_type": "code",
      "source": [
        "\"\"\"\n",
        "Maze environment used in the first three modules of the course:\n",
        "\"Beginner to Master: Reinforcement Learning\".\n",
        "\"\"\"\n",
        "from typing import Tuple, Dict, Optional, Iterable\n",
        "import numpy as np\n",
        "import gym\n",
        "from gym import spaces\n",
        "from gym.error import DependencyNotInstalled\n",
        "import pygame\n",
        "from pygame import gfxdraw\n",
        "\n",
        "\n",
        "class Maze(gym.Env):\n",
        "    \"\"\"\n",
        "    Description:\n",
        "        The environment consists of a grid of (size x size) positions. The agent\n",
        "        starts the episode in location (row=0, col=0) if the environment is instantiated\n",
        "        without exploring starts or from a random location (different from the goal)\n",
        "         if it is. The goal is always at (row=size-1, col=size-1).\n",
        "    Observation:\n",
        "        Type: MultiDiscrete(2)\n",
        "        Num     Observation     Min     Max\n",
        "        0       row coordinate    0       size-1\n",
        "        1       col coordinate    0       size-1\n",
        "    Actions:\n",
        "        Type: Discrete(4)\n",
        "        Num     Action\n",
        "        0       Move up\n",
        "        1       Move right\n",
        "        2       Move down\n",
        "        3       Move left\n",
        "    Reward:\n",
        "        If the environment is instantiated with shaped rewards, then at each time step\n",
        "        the agent will receive a reward signal of the following magnitude:\n",
        "\n",
        "            r = - steps_to_goal(current_state) / steps_to_goal(furthest_state)\n",
        "\n",
        "        This ensures that the maximum reward awarded will be -1.0 and that at the goal\n",
        "        the reward will be 0.\n",
        "\n",
        "        If the environment is instantiated without shaped rewards, then at each time step\n",
        "        the agent will receive a reward of -1.0 until it reaches the goal.\n",
        "    Episode termination:\n",
        "        The episode terminates when the agent reaches the goal state.\n",
        "    \"\"\"\n",
        "\n",
        "    def __init__(self, exploring_starts: bool = False,\n",
        "                 shaped_rewards: bool = False, size: int = 5) -> None:\n",
        "        \"\"\"\n",
        "        Initialize the environment.\n",
        "\n",
        "        Args:\n",
        "            exploring_starts: should the agent restart at a random location or not.\n",
        "            shaped_rewards: should the environment shape the rewards.\n",
        "            size: size of the maze. Will be of shape (size x size).\n",
        "        \"\"\"\n",
        "        super().__init__()\n",
        "        self.exploring_starts = exploring_starts\n",
        "        self.shaped_rewards = shaped_rewards\n",
        "        self.state = (size - 1, size - 1)\n",
        "        self.goal = (size - 1, size - 1)\n",
        "        self.maze = self._create_maze(size=size)\n",
        "        self.distances = self._compute_distances(self.goal, self.maze)\n",
        "        self.action_space = spaces.Discrete(n=4)\n",
        "        self.action_space.action_meanings = {0: 'UP', 1: 'RIGHT', 2: 'DOWN', 3: \"LEFT\"}\n",
        "        self.observation_space = spaces.MultiDiscrete([size, size])\n",
        "\n",
        "        self.screen = None\n",
        "        self.agent_transform = None\n",
        "\n",
        "    def step(self, action: int) -> Tuple[Tuple[int, int], float, bool, Dict]:\n",
        "        \"\"\"\n",
        "        Take an action in the environment and observe the next transition.\n",
        "\n",
        "        Args:\n",
        "            action: An indicator of the action to be taken.\n",
        "\n",
        "        Returns:\n",
        "            The next transition.\n",
        "        \"\"\"\n",
        "        reward = self.compute_reward(self.state, action)\n",
        "        self.state = self._get_next_state(self.state, action)\n",
        "        done = self.state == self.goal\n",
        "        info = {}\n",
        "        return self.state, reward, done, info\n",
        "\n",
        "    def reset(self) -> Tuple[int, int]:\n",
        "        \"\"\"\n",
        "        Reset the environment to execute a new episode.\n",
        "\n",
        "        Returns: State representing the initial position of the agent.\n",
        "        \"\"\"\n",
        "        if self.exploring_starts:\n",
        "            while self.state == self.goal:\n",
        "                self.state = tuple(self.observation_space.sample())\n",
        "        else:\n",
        "            self.state = (0, 0)\n",
        "        return self.state\n",
        "\n",
        "    def render(self, mode: str = 'human') -> Optional[np.ndarray]:\n",
        "        \"\"\"\n",
        "        Render a state of the environment.\n",
        "\n",
        "        Args:\n",
        "            mode: one of 'human' or 'rgb_array'. Human added only for compatibility.\n",
        "            All rendering will be done in 'rgb arrays' via NumPy.\n",
        "\n",
        "        Returns:\n",
        "            A numpy.ndarray or None.\n",
        "\n",
        "        \"\"\"\n",
        "        assert mode in ['human', 'rgb_array']\n",
        "\n",
        "        screen_size = 600\n",
        "        scale = screen_size / 5\n",
        "\n",
        "        if self.screen is None:\n",
        "            pygame.init()\n",
        "            self.screen = pygame.Surface((screen_size, screen_size))\n",
        "\n",
        "        surf = pygame.Surface((screen_size, screen_size))\n",
        "        surf.fill((22, 36, 71))\n",
        "\n",
        "\n",
        "        for row in range(5):\n",
        "            for col in range(5):\n",
        "\n",
        "                state = (row, col)\n",
        "                for next_state in [(row + 1, col), (row - 1, col), (row, col + 1), (row, col - 1)]:\n",
        "                    if next_state not in self.maze[state]:\n",
        "\n",
        "                        # Add the geometry of the edges and walls (i.e. the boundaries between\n",
        "                        # adjacent squares that are not connected).\n",
        "                        row_diff, col_diff = np.subtract(next_state, state)\n",
        "                        left = (col + (col_diff > 0)) * scale - 2 * (col_diff != 0)\n",
        "                        right = ((col + 1) - (col_diff < 0)) * scale + 2 * (col_diff != 0)\n",
        "                        top = (5 - (row + (row_diff > 0))) * scale - 2 * (row_diff != 0)\n",
        "                        bottom = (5 - ((row + 1) - (row_diff < 0))) * scale + 2 * (row_diff != 0)\n",
        "\n",
        "                        gfxdraw.filled_polygon(surf, [(left, bottom), (left, top), (right, top), (right, bottom)], (255, 255, 255))\n",
        "\n",
        "        # Add the geometry of the goal square to the viewer.\n",
        "        left, right, top, bottom = scale * 4 + 10, scale * 5 - 10, scale - 10, 10\n",
        "        gfxdraw.filled_polygon(surf, [(left, bottom), (left, top), (right, top), (right, bottom)], (40, 199, 172))\n",
        "\n",
        "        # Add the geometry of the agent to the viewer.\n",
        "        agent_row = int(screen_size - scale * (self.state[0] + .5))\n",
        "        agent_col = int(scale * (self.state[1] + .5))\n",
        "        gfxdraw.filled_circle(surf, agent_col, agent_row, int(scale * .6 / 2), (228, 63, 90))\n",
        "\n",
        "        surf = pygame.transform.flip(surf, False, True)\n",
        "        self.screen.blit(surf, (0, 0))\n",
        "\n",
        "        return np.transpose(\n",
        "                np.array(pygame.surfarray.pixels3d(self.screen)), axes=(1, 0, 2)\n",
        "            )\n",
        "\n",
        "    def close(self) -> None:\n",
        "        \"\"\"\n",
        "        Clean up resources before shutting down the environment.\n",
        "\n",
        "        Returns: None.\n",
        "        \"\"\"\n",
        "        if self.screen is not None:\n",
        "            pygame.display.quit()\n",
        "            pygame.quit()\n",
        "            self.screen = None\n",
        "\n",
        "    def compute_reward(self, state: Tuple[int, int], action: int) -> float:\n",
        "        \"\"\"\n",
        "        Compute the reward attained by taking action 'a' at state 's'.\n",
        "\n",
        "        Args:\n",
        "            state: the state of the agent prior to taking the action.\n",
        "            action: the action taken by the agent.\n",
        "\n",
        "        Returns:\n",
        "            A float representing the reward signal received by the agent.\n",
        "\n",
        "        \"\"\"\n",
        "        next_state = self._get_next_state(state, action)\n",
        "        if self.shaped_rewards:\n",
        "            return - (self.distances[next_state] / self.distances.max())\n",
        "        return - float(state != self.goal)\n",
        "\n",
        "    def simulate_step(self, state: Tuple[int, int], action: int):\n",
        "        \"\"\"\n",
        "\n",
        "        Simulate (without taking) a step in the environment.\n",
        "\n",
        "        Args:\n",
        "            state: the state of the agent prior to taking the action.\n",
        "            action: the action to simulate the step with.\n",
        "\n",
        "        Returns:\n",
        "            The next transition.\n",
        "\n",
        "        \"\"\"\n",
        "        reward = self.compute_reward(state, action)\n",
        "        next_state = self._get_next_state(state, action)\n",
        "        done = next_state == self.goal\n",
        "        info = {}\n",
        "        return next_state, reward, done, info\n",
        "\n",
        "    def _get_next_state(self, state: Tuple[int, int], action: int) -> Tuple[int, int]:\n",
        "        \"\"\"\n",
        "        Gets the next state after the agent performs action 'a' in state 's'. If there is a\n",
        "        wall in the way, the next state will be the same as the current.\n",
        "\n",
        "        Args:\n",
        "            state: current state (before taking the action).\n",
        "            action: move performed by the agent.\n",
        "\n",
        "        Returns: a State instance representing the new state.\n",
        "        \"\"\"\n",
        "        if action == 0:\n",
        "            next_state = (state[0] - 1, state[1])\n",
        "        elif action == 1:\n",
        "            next_state = (state[0], state[1] + 1)\n",
        "        elif action == 2:\n",
        "            next_state = (state[0] + 1, state[1])\n",
        "        elif action == 3:\n",
        "            next_state = (state[0], state[1] - 1)\n",
        "        else:\n",
        "            raise ValueError(\"Action value not supported:\", action)\n",
        "        if next_state in self.maze[state]:\n",
        "            return next_state\n",
        "        return state\n",
        "\n",
        "    @staticmethod\n",
        "    def _create_maze(size: int) -> Dict[Tuple[int, int], Iterable[Tuple[int, int]]]:\n",
        "        \"\"\"\n",
        "        Creates a representation of the maze as a dictionary where the keys are\n",
        "        the states available to the agent and the values are lists of adjacent\n",
        "        states.\n",
        "\n",
        "        Args:\n",
        "            size: number of elements of each side in the square grid.\n",
        "\n",
        "        Returns: the adjacency list dictionary.\n",
        "        \"\"\"\n",
        "\n",
        "        maze = {(row, col): [(row - 1, col), (row + 1, col), (row, col - 1), (row, col + 1)]\n",
        "                for row in range(size) for col in range(size)}\n",
        "\n",
        "        left_edges = [[(row, 0), (row, -1)] for row in range(size)]\n",
        "        right_edges = [[(row, size - 1), (row, size)] for row in range(size)]\n",
        "        upper_edges = [[(0, col), (-1, col)] for col in range(size)]\n",
        "        lower_edges = [[(size - 1, col), (size, col)] for col in range(size)]\n",
        "        walls = [\n",
        "            [(1, 0), (1, 1)], [(2, 0), (2, 1)], [(3, 0), (3, 1)],\n",
        "            [(1, 1), (1, 2)], [(2, 1), (2, 2)], [(3, 1), (3, 2)],\n",
        "            [(3, 1), (4, 1)], [(0, 2), (1, 2)], [(1, 2), (1, 3)],\n",
        "            [(2, 2), (3, 2)], [(2, 3), (3, 3)], [(2, 4), (3, 4)],\n",
        "            [(4, 2), (4, 3)], [(1, 3), (1, 4)], [(2, 3), (2, 4)],\n",
        "        ]\n",
        "\n",
        "        obstacles = upper_edges + lower_edges + left_edges + right_edges + walls\n",
        "\n",
        "        for src, dst in obstacles:\n",
        "            maze[src].remove(dst)\n",
        "\n",
        "            if dst in maze:\n",
        "                maze[dst].remove(src)\n",
        "\n",
        "        return maze\n",
        "\n",
        "    @staticmethod\n",
        "    def _compute_distances(goal: Tuple[int, int],\n",
        "                           maze: Dict[Tuple[int, int], Iterable[Tuple[int, int]]]) -> np.ndarray:\n",
        "        \"\"\"\n",
        "        Compute the distance to the goal from all other positions in the maze using Dijkstra's\n",
        "        algorithm.\n",
        "\n",
        "        Args:\n",
        "            goal: A tuple representing the location of the goal in a two-dimensional grid.\n",
        "            maze: A dictionary holding the adjacency lists of all locations in the\n",
        "            two-dimensional grid.\n",
        "\n",
        "        Returns: A (H x W) numpy array holding the minimum number of moves for each position\n",
        "        to reach the goal.\n",
        "\n",
        "        \"\"\"\n",
        "        distances = np.full((5, 5), np.inf)\n",
        "        visited = set()\n",
        "        distances[goal] = 0.\n",
        "\n",
        "        while visited != set(maze):\n",
        "            sorted_dst = [(v // 5, v % 5) for v in distances.argsort(axis=None)]\n",
        "            closest = next(x for x in sorted_dst if x not in visited)\n",
        "            visited.add(closest)\n",
        "\n",
        "            for neighbour in maze[closest]:\n",
        "                distances[neighbour] = min(distances[neighbour], distances[closest] + 1)\n",
        "        return distances\n",
        "\n",
        "from IPython import display\n",
        "from matplotlib import pyplot as plt\n",
        "\n",
        "%matplotlib inline\n",
        "from typing import Callable\n",
        "\n",
        "from IPython import display\n",
        "import matplotlib.patches as mpatches\n",
        "import matplotlib.pyplot as plt\n",
        "import seaborn as sns\n",
        "import gym\n",
        "import torch\n",
        "\n",
        "def plot_policy(probs_or_qvals, frame, action_meanings=None):\n",
        "    if action_meanings is None:\n",
        "        action_meanings = {0: 'U', 1: 'R', 2: 'D', 3: 'L'}\n",
        "    fig, axes = plt.subplots(1, 2, figsize=(12, 6))\n",
        "    max_prob_actions = probs_or_qvals.argmax(axis=-1)\n",
        "    probs_copy = max_prob_actions.copy().astype(np.object)\n",
        "    for key in action_meanings:\n",
        "        probs_copy[probs_copy == key] = action_meanings[key]\n",
        "    sns.heatmap(max_prob_actions, annot=probs_copy, fmt='', cbar=False, cmap='coolwarm',\n",
        "                annot_kws={'weight': 'bold', 'size': 12}, linewidths=2, ax=axes[0])\n",
        "    axes[1].imshow(frame)\n",
        "    axes[0].axis('off')\n",
        "    axes[1].axis('off')\n",
        "    plt.suptitle(\"Policy\", size=24)\n",
        "    plt.tight_layout()\n",
        "\n",
        "\n",
        "def plot_values(state_values, frame):\n",
        "    f, axes = plt.subplots(1, 2, figsize=(12, 5))\n",
        "    sns.heatmap(state_values, annot=True, fmt=\".2f\", cmap='coolwarm',\n",
        "                annot_kws={'weight': 'bold', 'size': 12}, linewidths=2, ax=axes[0])\n",
        "    axes[1].imshow(frame)\n",
        "    axes[0].axis('off')\n",
        "    axes[1].axis('off')\n",
        "    plt.tight_layout()\n",
        "\n",
        "\n",
        "def plot_action_values(action_values):\n",
        "\n",
        "    text_positions = [\n",
        "        [(0.35, 4.75), (1.35, 4.75), (2.35, 4.75), (3.35, 4.75), (4.35, 4.75),\n",
        "         (0.35, 3.75), (1.35, 3.75), (2.35, 3.75), (3.35, 3.75), (4.35, 3.75),\n",
        "         (0.35, 2.75), (1.35, 2.75), (2.35, 2.75), (3.35, 2.75), (4.35, 2.75),\n",
        "         (0.35, 1.75), (1.35, 1.75), (2.35, 1.75), (3.35, 1.75), (4.35, 1.75),\n",
        "         (0.35, 0.75), (1.35, 0.75), (2.35, 0.75), (3.35, 0.75), (4.35, 0.75)],\n",
        "        [(0.6, 4.45), (1.6, 4.45), (2.6, 4.45), (3.6, 4.45), (4.6, 4.45),\n",
        "         (0.6, 3.45), (1.6, 3.45), (2.6, 3.45), (3.6, 3.45), (4.6, 3.45),\n",
        "         (0.6, 2.45), (1.6, 2.45), (2.6, 2.45), (3.6, 2.45), (4.6, 2.45),\n",
        "         (0.6, 1.45), (1.6, 1.45), (2.6, 1.45), (3.6, 1.45), (4.6, 1.45),\n",
        "         (0.6, 0.45), (1.6, 0.45), (2.6, 0.45), (3.6, 0.45), (4.6, 0.45)],\n",
        "        [(0.35, 4.15), (1.35, 4.15), (2.35, 4.15), (3.35, 4.15), (4.35, 4.15),\n",
        "         (0.35, 3.15), (1.35, 3.15), (2.35, 3.15), (3.35, 3.15), (4.35, 3.15),\n",
        "         (0.35, 2.15), (1.35, 2.15), (2.35, 2.15), (3.35, 2.15), (4.35, 2.15),\n",
        "         (0.35, 1.15), (1.35, 1.15), (2.35, 1.15), (3.35, 1.15), (4.35, 1.15),\n",
        "         (0.35, 0.15), (1.35, 0.15), (2.35, 0.15), (3.35, 0.15), (4.35, 0.15)],\n",
        "        [(0.05, 4.45), (1.05, 4.45), (2.05, 4.45), (3.05, 4.45), (4.05, 4.45),\n",
        "         (0.05, 3.45), (1.05, 3.45), (2.05, 3.45), (3.05, 3.45), (4.05, 3.45),\n",
        "         (0.05, 2.45), (1.05, 2.45), (2.05, 2.45), (3.05, 2.45), (4.05, 2.45),\n",
        "         (0.05, 1.45), (1.05, 1.45), (2.05, 1.45), (3.05, 1.45), (4.05, 1.45),\n",
        "         (0.05, 0.45), (1.05, 0.45), (2.05, 0.45), (3.05, 0.45), (4.05, 0.45)]]\n",
        "\n",
        "    fig, ax = plt.subplots(figsize=(9, 9))\n",
        "    tripcolor = quatromatrix(action_values, ax=ax,\n",
        "                             triplotkw={\"color\": \"k\", \"lw\": 1}, tripcolorkw={\"cmap\": \"coolwarm\"})\n",
        "    ax.margins(0)\n",
        "    ax.set_aspect(\"equal\")\n",
        "    fig.colorbar(tripcolor)\n",
        "\n",
        "    for j, av in enumerate(text_positions):\n",
        "        for i, (xi, yi) in enumerate(av):\n",
        "            plt.text(xi, yi, round(action_values[:, :, j].flatten()[i], 2), size=10, color=\"w\", weight=\"bold\")\n",
        "\n",
        "    plt.title(\"Action values Q(s,a)\", size=18)\n",
        "    plt.tight_layout()\n",
        "    plt.show()\n",
        "\n",
        "\n",
        "def quatromatrix(action_values, ax=None, triplotkw=None, tripcolorkw=None):\n",
        "    action_values = np.flipud(action_values)\n",
        "    n = 5\n",
        "    m = 5\n",
        "    a = np.array([[0, 0], [0, 1], [.5, .5], [1, 0], [1, 1]])\n",
        "    tr = np.array([[0, 1, 2], [0, 2, 3], [2, 3, 4], [1, 2, 4]])\n",
        "    A = np.zeros((n * m * 5, 2))\n",
        "    Tr = np.zeros((n * m * 4, 3))\n",
        "    for i in range(n):\n",
        "        for j in range(m):\n",
        "            k = i * m + j\n",
        "            A[k * 5:(k + 1) * 5, :] = np.c_[a[:, 0] + j, a[:, 1] + i]\n",
        "            Tr[k * 4:(k + 1) * 4, :] = tr + k * 5\n",
        "    C = np.c_[action_values[:, :, 3].flatten(), action_values[:, :, 2].flatten(),\n",
        "              action_values[:, :, 1].flatten(), action_values[:, :, 0].flatten()].flatten()\n",
        "\n",
        "    ax.triplot(A[:, 0], A[:, 1], Tr, **triplotkw)\n",
        "    tripcolor = ax.tripcolor(A[:, 0], A[:, 1], Tr, facecolors=C, **tripcolorkw)\n",
        "    return tripcolor\n",
        "\n",
        "\n",
        "def test_agent(env: gym.Env, policy: Callable, episodes: int = 10) -> None:\n",
        "    plt.figure(figsize=(8, 8))\n",
        "    for episode in range(episodes):\n",
        "        state = env.reset()\n",
        "        done = False\n",
        "        img = plt.imshow(env.render(mode='rgb_array'))\n",
        "        while not done:\n",
        "            p = policy(state)\n",
        "            if isinstance(p, np.ndarray):\n",
        "                action = np.random.choice(4, p=p)\n",
        "            else:\n",
        "                action = p\n",
        "            next_state, _, done, _ = env.step(action)\n",
        "            img.set_data(env.render(mode='rgb_array'))\n",
        "            plt.axis('off')\n",
        "            display.display(plt.gcf())\n",
        "            display.clear_output(wait=True)\n",
        "            state = next_state\n",
        "\n",
        "\n",
        "def plot_cost_to_go(env, q_network, xlabel=None, ylabel=None):\n",
        "    highx, highy = env.observation_space.high\n",
        "    lowx, lowy = env.observation_space.low\n",
        "    X = torch.linspace(lowx, highx, 100)\n",
        "    Y = torch.linspace(lowy, highy, 100)\n",
        "    X, Y = torch.meshgrid(X, Y)\n",
        "\n",
        "    q_net_input = torch.stack([X.flatten(), Y.flatten()], dim=-1)\n",
        "    Z = - q_network(q_net_input).max(dim=-1, keepdim=True)[0]\n",
        "    Z = Z.reshape(100, 100).detach().numpy()\n",
        "    X = X.numpy()\n",
        "    Y = Y.numpy()\n",
        "\n",
        "    fig = plt.figure(figsize=(8, 8))\n",
        "    ax = fig.add_subplot(111, projection='3d')\n",
        "    surf = ax.plot_surface(X, Y, Z, cmap='jet', linewidth=0, antialiased=False)\n",
        "    fig.colorbar(surf, shrink=0.5, aspect=5)\n",
        "    ax.set_xlabel(xlabel, size=14)\n",
        "    ax.set_ylabel(ylabel, size=14)\n",
        "    ax.set_title(\"Estimated cost-to-go\", size=18)\n",
        "    plt.tight_layout()\n",
        "    plt.show()\n",
        "\n",
        "\n",
        "def plot_tabular_cost_to_go(action_values, xlabel, ylabel):\n",
        "    plt.figure(figsize=(8, 8))\n",
        "    cost_to_go = -action_values.max(axis=-1)\n",
        "    plt.imshow(cost_to_go, cmap='jet')\n",
        "    plt.title(\"Estimated cost-to-go\", size=24)\n",
        "    plt.xlabel(xlabel, size=18)\n",
        "    plt.ylabel(ylabel, size=18)\n",
        "    plt.xticks([])\n",
        "    plt.yticks([])\n",
        "    plt.xticks()\n",
        "    plt.colorbar()\n",
        "    plt.tight_layout()\n",
        "    plt.show()\n",
        "\n",
        "\n",
        "def plot_max_q(env, q_network, xlabel=None, ylabel=None, action_labels=[]):\n",
        "    highx, highy = env.observation_space.high\n",
        "    lowx, lowy = env.observation_space.low\n",
        "    X = torch.linspace(lowx, highx, 100)\n",
        "    Y = torch.linspace(lowy, highy, 100)\n",
        "    X, Y = torch.meshgrid(X, Y)\n",
        "    q_net_input = torch.stack([X.flatten(), Y.flatten()], dim=-1)\n",
        "    Z = q_network(q_net_input).argmax(dim=-1, keepdim=True)\n",
        "    Z = Z.reshape(100, 100).T.detach().numpy()\n",
        "    values = np.unique(Z.ravel())\n",
        "    values.sort()\n",
        "\n",
        "    plt.figure(figsize=(5, 5))\n",
        "    plt.xlabel(xlabel, size=14)\n",
        "    plt.ylabel(ylabel, size=14)\n",
        "    plt.title(\"Optimal action\", size=18)\n",
        "\n",
        "    # im = plt.imshow(Z, interpolation='none', cmap='jet')\n",
        "    im = plt.imshow(Z, cmap='jet')\n",
        "    colors = [im.cmap(im.norm(value)) for value in values]\n",
        "    patches = [mpatches.Patch(color=color, label=label) for color, label in zip(colors, action_labels)]\n",
        "    plt.legend(handles=patches, bbox_to_anchor=(1.05, 1), loc=2, borderaxespad=0.)\n",
        "    plt.tight_layout()\n",
        "\n",
        "\n",
        "def plot_stats(stats):\n",
        "    rows = len(stats)\n",
        "    cols = 1\n",
        "\n",
        "    fig, ax = plt.subplots(rows, cols, figsize=(12, 6))\n",
        "\n",
        "    for i, key in enumerate(stats):\n",
        "        vals = stats[key]\n",
        "        vals = [np.mean(vals[i-10:i+10]) for i in range(10, len(vals)-10)]\n",
        "        if len(stats) > 1:\n",
        "            ax[i].plot(range(len(vals)), vals)\n",
        "            ax[i].set_title(key, size=18)\n",
        "        else:\n",
        "            ax.plot(range(len(vals)), vals)\n",
        "            ax.set_title(key, size=18)\n",
        "    plt.tight_layout()\n",
        "    plt.show()\n",
        "\n",
        "\n",
        "def seed_everything(env: gym.Env, seed: int = 42) -> None:\n",
        "    \"\"\"\n",
        "    Seeds all the sources of randomness so that experiments are reproducible.\n",
        "    Args:\n",
        "        env: the environment to be seeded.\n",
        "        seed: an integer seed.\n",
        "    Returns:\n",
        "        None.\n",
        "    \"\"\"\n",
        "    env.seed(seed)\n",
        "    env.action_space.seed(seed)\n",
        "    env.observation_space.seed(seed)\n",
        "    np.random.seed(seed)\n",
        "    torch.manual_seed(seed)\n",
        "    # torch._set_deterministic(True)\n",
        "\n",
        "\n",
        "def test_policy_network(env, policy, episodes=1):\n",
        "    from IPython import display\n",
        "    plt.figure(figsize=(6, 6))\n",
        "    for episode in range(episodes):\n",
        "        state = env.reset()\n",
        "        done = False\n",
        "        img = plt.imshow(env.render(mode='rgb_array'))\n",
        "        while not done:\n",
        "            state = torch.from_numpy(state).unsqueeze(0).float()\n",
        "            action = policy(state).multinomial(1).item()\n",
        "            next_state, _, done, _ = env.step(action)\n",
        "            img.set_data(env.render(mode='rgb_array'))\n",
        "            plt.axis('off')\n",
        "            display.display(plt.gcf())\n",
        "            display.clear_output(wait=True)\n",
        "            state = next_state\n",
        "\n",
        "\n",
        "def plot_action_probs(probs, labels):\n",
        "    plt.figure(figsize=(6, 4))\n",
        "    plt.bar(labels, probs, color ='orange')\n",
        "    plt.title(\"$\\pi(s)$\", size=16)\n",
        "    plt.xticks(fontsize=12)\n",
        "    plt.yticks(fontsize=12)\n",
        "    plt.tight_layout()\n",
        "    plt.show()"
      ],
      "metadata": {
        "id": "EUfVuHWmV6ts"
      },
      "execution_count": 3,
      "outputs": []
    },
    {
      "cell_type": "code",
      "execution_count": 4,
      "metadata": {
        "id": "YSgZMwY8VnEb",
        "outputId": "8b879a9f-4644-48a3-e7cd-a3f70bbe03ec",
        "colab": {
          "base_uri": "https://localhost:8080/"
        }
      },
      "outputs": [
        {
          "output_type": "stream",
          "name": "stderr",
          "text": [
            "/usr/local/lib/python3.9/dist-packages/ipykernel/ipkernel.py:283: DeprecationWarning: `should_run_async` will not call `transform_cell` automatically in the future. Please pass the result to `transformed_cell` argument and any exception that happen during thetransform in `preprocessing_exc_tuple` in IPython 7.17 and above.\n",
            "  and should_run_async(code)\n"
          ]
        }
      ],
      "source": [
        "import numpy as np\n",
        "import matplotlib.pyplot as plt"
      ]
    },
    {
      "cell_type": "markdown",
      "metadata": {
        "id": "PH7v7SWwVnEc"
      },
      "source": [
        "## Initialize the environment"
      ]
    },
    {
      "cell_type": "code",
      "execution_count": 5,
      "metadata": {
        "id": "SywDGoVXVnEd"
      },
      "outputs": [],
      "source": [
        "env = Maze()"
      ]
    },
    {
      "cell_type": "code",
      "execution_count": 6,
      "metadata": {
        "id": "94w3eys6VnEd",
        "outputId": "42062405-5cb6-40fd-bd19-2e6ad9e84470",
        "colab": {
          "base_uri": "https://localhost:8080/",
          "height": 495
        }
      },
      "outputs": [
        {
          "output_type": "stream",
          "name": "stderr",
          "text": [
            "/usr/local/lib/python3.9/dist-packages/gym/core.py:43: DeprecationWarning: \u001b[33mWARN: The argument mode in render method is deprecated; use render_mode during environment initialization instead.\n",
            "See here for more information: https://www.gymlibrary.ml/content/api/\u001b[0m\n",
            "  deprecation(\n"
          ]
        },
        {
          "output_type": "execute_result",
          "data": {
            "text/plain": [
              "<matplotlib.image.AxesImage at 0x7f93b460ac10>"
            ]
          },
          "metadata": {},
          "execution_count": 6
        },
        {
          "output_type": "display_data",
          "data": {
            "text/plain": [
              "<Figure size 640x480 with 1 Axes>"
            ],
            "image/png": "[encoded data removed]"
          },
          "metadata": {}
        }
      ],
      "source": [
        "frame = env.render(mode='rgb_array')\n",
        "plt.axis('off')\n",
        "plt.imshow(frame)"
      ]
    },
    {
      "cell_type": "code",
      "execution_count": 7,
      "metadata": {
        "id": "99HzH2a9VnEd",
        "outputId": "3d74b46b-bdc0-46b2-94e6-be9c2145954f",
        "colab": {
          "base_uri": "https://localhost:8080/"
        }
      },
      "outputs": [
        {
          "output_type": "stream",
          "name": "stdout",
          "text": [
            "Observation space shape: [5 5]\n",
            "Number of actions: 4\n"
          ]
        }
      ],
      "source": [
        "print(f\"Observation space shape: {env.observation_space.nvec}\")\n",
        "print(f\"Number of actions: {env.action_space.n}\")"
      ]
    },
    {
      "cell_type": "markdown",
      "metadata": {
        "id": "BHHdgkCcVnEe"
      },
      "source": [
        "## Define the policy $\\pi(\\cdot|s)$"
      ]
    },
    {
      "cell_type": "markdown",
      "metadata": {
        "id": "fCqIcGOZVnEe"
      },
      "source": [
        "#### Create the policy $\\pi(\\cdot|s)$"
      ]
    },
    {
      "cell_type": "code",
      "execution_count": 8,
      "metadata": {
        "id": "KpI-G7KlVnEe"
      },
      "outputs": [],
      "source": [
        "policy_probs = np.full((5, 5, 4), 0.25)"
      ]
    },
    {
      "cell_type": "code",
      "execution_count": 9,
      "metadata": {
        "id": "FM8abR8jVnEf"
      },
      "outputs": [],
      "source": [
        "def policy(state):\n",
        "    return policy_probs[state]"
      ]
    },
    {
      "cell_type": "markdown",
      "metadata": {
        "id": "994ODAwrVnEf"
      },
      "source": [
        "#### Test the policy with state (0, 0)"
      ]
    },
    {
      "cell_type": "code",
      "execution_count": 10,
      "metadata": {
        "id": "Or2xiEFDVnEf",
        "outputId": "087c4f61-8ab0-4346-db4a-0d2582abfc8c",
        "colab": {
          "base_uri": "https://localhost:8080/"
        }
      },
      "outputs": [
        {
          "output_type": "stream",
          "name": "stdout",
          "text": [
            "Probability of taking action 0: 0.25\n",
            "Probability of taking action 1: 0.25\n",
            "Probability of taking action 2: 0.25\n",
            "Probability of taking action 3: 0.25\n"
          ]
        }
      ],
      "source": [
        "action_probabilities = policy((0,0))\n",
        "for action, prob in zip(range(4), action_probabilities):\n",
        "    print(f\"Probability of taking action {action}: {prob}\")"
      ]
    },
    {
      "cell_type": "markdown",
      "metadata": {
        "id": "NWzzbkl4VnEg"
      },
      "source": [
        "#### See how the random policy does in the maze"
      ]
    },
    {
      "cell_type": "code",
      "execution_count": 11,
      "metadata": {
        "id": "VLjgq0KaVnEg"
      },
      "outputs": [],
      "source": [
        "test_agent(env, policy, episodes=1)"
      ]
    },
    {
      "cell_type": "markdown",
      "metadata": {
        "id": "eQljFIwzVnEg"
      },
      "source": [
        "#### Plot the policy"
      ]
    },
    {
      "cell_type": "code",
      "source": [
        "import warnings\n",
        "warnings.filterwarnings('ignore')"
      ],
      "metadata": {
        "id": "MaXNp-4AW9nL"
      },
      "execution_count": 12,
      "outputs": []
    },
    {
      "cell_type": "code",
      "execution_count": 13,
      "metadata": {
        "id": "AEr6YiTjVnEg",
        "outputId": "62646b30-02ce-4560-b62b-36d5cc7ca796",
        "colab": {
          "base_uri": "https://localhost:8080/",
          "height": 394
        }
      },
      "outputs": [
        {
          "output_type": "display_data",
          "data": {
            "text/plain": [
              "<Figure size 1200x600 with 2 Axes>"
            ],
            "image/png": "[encoded data removed]"
          },
          "metadata": {}
        }
      ],
      "source": [
        "plot_policy(policy_probs, frame)"
      ]
    },
    {
      "cell_type": "markdown",
      "metadata": {
        "id": "MNtJ72HAVnEg"
      },
      "source": [
        "## Define value table $V(s)$"
      ]
    },
    {
      "cell_type": "markdown",
      "metadata": {
        "id": "HzeK3n3pVnEh"
      },
      "source": [
        "#### Create the $V(s)$ table"
      ]
    },
    {
      "cell_type": "code",
      "execution_count": 14,
      "metadata": {
        "id": "6WLSlQEUVnEh"
      },
      "outputs": [],
      "source": [
        "state_values = np.zeros(shape=(5,5))"
      ]
    },
    {
      "cell_type": "markdown",
      "metadata": {
        "id": "7OGX8oCUVnEh"
      },
      "source": [
        "#### Plot $V(s)$"
      ]
    },
    {
      "cell_type": "code",
      "execution_count": 15,
      "metadata": {
        "id": "e9by8DU_VnEh",
        "outputId": "5100320a-1920-4bef-cb48-9f0cd231f5d7",
        "colab": {
          "base_uri": "https://localhost:8080/",
          "height": 337
        }
      },
      "outputs": [
        {
          "output_type": "display_data",
          "data": {
            "text/plain": [
              "<Figure size 1200x500 with 3 Axes>"
            ],
            "image/png": "[encoded data removed]"
          },
          "metadata": {}
        }
      ],
      "source": [
        "plot_values(state_values, frame)"
      ]
    },
    {
      "cell_type": "markdown",
      "metadata": {
        "id": "x-NB67LsVnEh"
      },
      "source": [
        "## Implement the Policy Iteration algorithm"
      ]
    },
    {
      "cell_type": "markdown",
      "source": [
        "![pseudotmp1.png](data:image/png;base64,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)\n",
        "\n",
        "<div style=\"text-align:center\">\n",
        "    Image copied from http://incompleteideas.net/book/ebook/pseudotmp1.png and \n",
        "    Adapted from Barto & Sutton: \"Reinforcement Learning: An Introduction\".\n",
        "</div>"
      ],
      "metadata": {
        "id": "RiaFgPCEYFUi"
      }
    },
    {
      "cell_type": "code",
      "execution_count": 16,
      "metadata": {
        "id": "Uw-c13HyVnEi"
      },
      "outputs": [],
      "source": [
        "def policy_evaluation(policy_probs, state_values,theta=1e-6,gamma=0.99):\n",
        "    delta = float(\"inf\")\n",
        "    while delta>theta:\n",
        "        delta=0\n",
        "\n",
        "        for row in range(5):\n",
        "            for col in range(5):\n",
        "                old_value = state_values[(row,col)]\n",
        "                new_value = 0\n",
        "                action_probabilities = policy_probs[(row,col)]\n",
        "        \n",
        "                for action,prob in enumerate(action_probabilities):\n",
        "                    next_state , reward, _ , _ = env.simulate_step((row,col),action)\n",
        "                    new_value += prob * (reward + gamma * state_values[next_state])\n",
        "                \n",
        "                state_values[(row,col)] = new_value\n",
        "                delta = max(delta, abs(old_value - new_value))\n",
        "\n",
        "\n"
      ]
    },
    {
      "cell_type": "code",
      "execution_count": 23,
      "metadata": {
        "id": "Xj9Z0MOWVnEi"
      },
      "outputs": [],
      "source": [
        "def policy_improvment(policy_probs, state_values, gamma=0.99):\n",
        "    policy_stable = True\n",
        "    for row in range(5):\n",
        "        for col in range(5):\n",
        "            old_action = policy_probs[(row,col)].argmax()\n",
        "\n",
        "            new_action = None\n",
        "            max_qsa = float(\"-inf\")\n",
        "\n",
        "            for action in range(4):\n",
        "                next_state, reward, _, _ = env.simulate_step((row,col),action)\n",
        "                qsa = reward + gamma*state_values[next_state]\n",
        "\n",
        "                if qsa > max_qsa:\n",
        "                    max_qsa = qsa\n",
        "                    new_action = action\n",
        "            \n",
        "            action_probs = np.zeros(4)\n",
        "            action_probs[new_action] = 1\n",
        "            policy_probs[(row,col)] = action_probs\n",
        "\n",
        "            if new_action != old_action:\n",
        "                policy_stable = False\n",
        "        \n",
        "    return policy_stable"
      ]
    },
    {
      "cell_type": "code",
      "execution_count": 26,
      "metadata": {
        "id": "Gv4G0G0aVnEi"
      },
      "outputs": [],
      "source": [
        "def policy_iteration(policy_probs, state_values, theta=1e-6, gamma=0.99):\n",
        "    policy_stable = False\n",
        "    while not policy_stable:\n",
        "        policy_evaluation(policy_probs, state_values, theta, gamma)\n",
        "        plot_values(state_values,frame)\n",
        "        \n",
        "        policy_stable = policy_improvment(policy_probs, state_values, gamma)\n",
        "        plot_policy(policy_probs,frame)\n"
      ]
    },
    {
      "cell_type": "code",
      "execution_count": 27,
      "metadata": {
        "id": "TbEUuVntVnEi",
        "outputId": "9b44c564-d1c7-41c5-8e44-4d295a467f5f",
        "colab": {
          "base_uri": "https://localhost:8080/",
          "height": 714
        }
      },
      "outputs": [
        {
          "output_type": "display_data",
          "data": {
            "text/plain": [
              "<Figure size 1200x500 with 3 Axes>"
            ],
            "image/png": "[encoded data removed]"
          },
          "metadata": {}
        },
        {
          "output_type": "display_data",
          "data": {
            "text/plain": [
              "<Figure size 1200x600 with 2 Axes>"
            ],
            "image/png": "[encoded data removed]"
          },
          "metadata": {}
        }
      ],
      "source": [
        "policy_iteration(policy_probs,state_values)"
      ]
    },
    {
      "cell_type": "markdown",
      "metadata": {
        "id": "CjWpaMJeVnEi"
      },
      "source": [
        "## Show results"
      ]
    },
    {
      "cell_type": "markdown",
      "metadata": {
        "id": "w0tH8umUVnEi"
      },
      "source": [
        "#### Test the resulting agent"
      ]
    },
    {
      "cell_type": "code",
      "execution_count": 28,
      "metadata": {
        "id": "0DS28hW6VnEi"
      },
      "outputs": [],
      "source": [
        "test_agent(env, policy)"
      ]
    },
    {
      "cell_type": "markdown",
      "metadata": {
        "id": "BLaY-4M8VnEj"
      },
      "source": [
        "## Resources"
      ]
    },
    {
      "cell_type": "markdown",
      "metadata": {
        "id": "T8Ju0fBYVnEj"
      },
      "source": [
        "[[1] Reinforcement Learning: An Introduction. Ch. 4: Dynamic Programming](https://web.stanford.edu/class/psych209/Readings/SuttonBartoIPRLBook2ndEd.pdf)"
      ]
    }
  ],
  "metadata": {
    "kernelspec": {
      "display_name": "Python 3",
      "language": "python",
      "name": "python3"
    },
    "language_info": {
      "codemirror_mode": {
        "name": "ipython",
        "version": 3
      },
      "file_extension": ".py",
      "mimetype": "text/x-python",
      "name": "python",
      "nbconvert_exporter": "python",
      "pygments_lexer": "ipython3",
      "version": "3.8.5"
    },
    "colab": {
      "provenance": [],
      "include_colab_link": true
    }
  },
  "nbformat": 4,
  "nbformat_minor": 0
}