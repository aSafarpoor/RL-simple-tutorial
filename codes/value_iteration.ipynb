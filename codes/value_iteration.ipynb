{
  "cells": [
    {
      "cell_type": "markdown",
      "metadata": {
        "pycharm": {
          "name": "#%%\n"
        },
        "id": "02Me94zrbe5K"
      },
      "source": [
        "<div style=\"text-align:center\">\n",
        "    <h1>\n",
        "        Value Iteration\n",
        "    </h1>\n",
        "</div>\n",
        "<br>\n",
        "\n",
        "<div style=\"text-align:center\">\n",
        "    <p>\n",
        "        In this notebook we are going to look at a dynamic programming algorithm called value iteration. In it, we will sweep the state space and update all the V(s) values.\n",
        "    </p>\n",
        "</div>\n",
        "\n",
        "<br><br>\n",
        "<div style=\"text-align:center\">\n",
        "    <b>This notebook belongs to section 3 of the course \"Reinforcement Learning: beginner to master\".</b>\n",
        "    <br><br>\n",
        "</div>"
      ]
    },
    {
      "cell_type": "markdown",
      "metadata": {
        "id": "k-xP0QK1be5M"
      },
      "source": [
        "## Import the necessary software libraries:"
      ]
    },
    {
      "cell_type": "code",
      "execution_count": 1,
      "metadata": {
        "id": "xa-r4CFNbe5N"
      },
      "outputs": [],
      "source": [
        "\"\"\"\n",
        "Maze environment used in the first three modules of the course:\n",
        "\"Beginner to Master: Reinforcement Learning\".\n",
        "\"\"\"\n",
        "from typing import Tuple, Dict, Optional, Iterable\n",
        "import numpy as np\n",
        "import gym\n",
        "from gym import spaces\n",
        "from gym.error import DependencyNotInstalled\n",
        "import pygame\n",
        "from pygame import gfxdraw\n",
        "\n",
        "\n",
        "class Maze(gym.Env):\n",
        "    \"\"\"\n",
        "    Description:\n",
        "        The environment consists of a grid of (size x size) positions. The agent\n",
        "        starts the episode in location (row=0, col=0) if the environment is instantiated\n",
        "        without exploring starts or from a random location (different from the goal)\n",
        "         if it is. The goal is always at (row=size-1, col=size-1).\n",
        "    Observation:\n",
        "        Type: MultiDiscrete(2)\n",
        "        Num     Observation     Min     Max\n",
        "        0       row coordinate    0       size-1\n",
        "        1       col coordinate    0       size-1\n",
        "    Actions:\n",
        "        Type: Discrete(4)\n",
        "        Num     Action\n",
        "        0       Move up\n",
        "        1       Move right\n",
        "        2       Move down\n",
        "        3       Move left\n",
        "    Reward:\n",
        "        If the environment is instantiated with shaped rewards, then at each time step\n",
        "        the agent will receive a reward signal of the following magnitude:\n",
        "\n",
        "            r = - steps_to_goal(current_state) / steps_to_goal(furthest_state)\n",
        "\n",
        "        This ensures that the maximum reward awarded will be -1.0 and that at the goal\n",
        "        the reward will be 0.\n",
        "\n",
        "        If the environment is instantiated without shaped rewards, then at each time step\n",
        "        the agent will receive a reward of -1.0 until it reaches the goal.\n",
        "    Episode termination:\n",
        "        The episode terminates when the agent reaches the goal state.\n",
        "    \"\"\"\n",
        "\n",
        "    def __init__(self, exploring_starts: bool = False,\n",
        "                 shaped_rewards: bool = False, size: int = 5) -> None:\n",
        "        \"\"\"\n",
        "        Initialize the environment.\n",
        "\n",
        "        Args:\n",
        "            exploring_starts: should the agent restart at a random location or not.\n",
        "            shaped_rewards: should the environment shape the rewards.\n",
        "            size: size of the maze. Will be of shape (size x size).\n",
        "        \"\"\"\n",
        "        super().__init__()\n",
        "        self.exploring_starts = exploring_starts\n",
        "        self.shaped_rewards = shaped_rewards\n",
        "        self.state = (size - 1, size - 1)\n",
        "        self.goal = (size - 1, size - 1)\n",
        "        self.maze = self._create_maze(size=size)\n",
        "        self.distances = self._compute_distances(self.goal, self.maze)\n",
        "        self.action_space = spaces.Discrete(n=4)\n",
        "        self.action_space.action_meanings = {0: 'UP', 1: 'RIGHT', 2: 'DOWN', 3: \"LEFT\"}\n",
        "        self.observation_space = spaces.MultiDiscrete([size, size])\n",
        "\n",
        "        self.screen = None\n",
        "        self.agent_transform = None\n",
        "\n",
        "    def step(self, action: int) -> Tuple[Tuple[int, int], float, bool, Dict]:\n",
        "        \"\"\"\n",
        "        Take an action in the environment and observe the next transition.\n",
        "\n",
        "        Args:\n",
        "            action: An indicator of the action to be taken.\n",
        "\n",
        "        Returns:\n",
        "            The next transition.\n",
        "        \"\"\"\n",
        "        reward = self.compute_reward(self.state, action)\n",
        "        self.state = self._get_next_state(self.state, action)\n",
        "        done = self.state == self.goal\n",
        "        info = {}\n",
        "        return self.state, reward, done, info\n",
        "\n",
        "    def reset(self) -> Tuple[int, int]:\n",
        "        \"\"\"\n",
        "        Reset the environment to execute a new episode.\n",
        "\n",
        "        Returns: State representing the initial position of the agent.\n",
        "        \"\"\"\n",
        "        if self.exploring_starts:\n",
        "            while self.state == self.goal:\n",
        "                self.state = tuple(self.observation_space.sample())\n",
        "        else:\n",
        "            self.state = (0, 0)\n",
        "        return self.state\n",
        "\n",
        "    def render(self, mode: str = 'human') -> Optional[np.ndarray]:\n",
        "        \"\"\"\n",
        "        Render a state of the environment.\n",
        "\n",
        "        Args:\n",
        "            mode: one of 'human' or 'rgb_array'. Human added only for compatibility.\n",
        "            All rendering will be done in 'rgb arrays' via NumPy.\n",
        "\n",
        "        Returns:\n",
        "            A numpy.ndarray or None.\n",
        "\n",
        "        \"\"\"\n",
        "        assert mode in ['human', 'rgb_array']\n",
        "\n",
        "        screen_size = 600\n",
        "        scale = screen_size / 5\n",
        "\n",
        "        if self.screen is None:\n",
        "            pygame.init()\n",
        "            self.screen = pygame.Surface((screen_size, screen_size))\n",
        "\n",
        "        surf = pygame.Surface((screen_size, screen_size))\n",
        "        surf.fill((22, 36, 71))\n",
        "\n",
        "\n",
        "        for row in range(5):\n",
        "            for col in range(5):\n",
        "\n",
        "                state = (row, col)\n",
        "                for next_state in [(row + 1, col), (row - 1, col), (row, col + 1), (row, col - 1)]:\n",
        "                    if next_state not in self.maze[state]:\n",
        "\n",
        "                        # Add the geometry of the edges and walls (i.e. the boundaries between\n",
        "                        # adjacent squares that are not connected).\n",
        "                        row_diff, col_diff = np.subtract(next_state, state)\n",
        "                        left = (col + (col_diff > 0)) * scale - 2 * (col_diff != 0)\n",
        "                        right = ((col + 1) - (col_diff < 0)) * scale + 2 * (col_diff != 0)\n",
        "                        top = (5 - (row + (row_diff > 0))) * scale - 2 * (row_diff != 0)\n",
        "                        bottom = (5 - ((row + 1) - (row_diff < 0))) * scale + 2 * (row_diff != 0)\n",
        "\n",
        "                        gfxdraw.filled_polygon(surf, [(left, bottom), (left, top), (right, top), (right, bottom)], (255, 255, 255))\n",
        "\n",
        "        # Add the geometry of the goal square to the viewer.\n",
        "        left, right, top, bottom = scale * 4 + 10, scale * 5 - 10, scale - 10, 10\n",
        "        gfxdraw.filled_polygon(surf, [(left, bottom), (left, top), (right, top), (right, bottom)], (40, 199, 172))\n",
        "\n",
        "        # Add the geometry of the agent to the viewer.\n",
        "        agent_row = int(screen_size - scale * (self.state[0] + .5))\n",
        "        agent_col = int(scale * (self.state[1] + .5))\n",
        "        gfxdraw.filled_circle(surf, agent_col, agent_row, int(scale * .6 / 2), (228, 63, 90))\n",
        "\n",
        "        surf = pygame.transform.flip(surf, False, True)\n",
        "        self.screen.blit(surf, (0, 0))\n",
        "\n",
        "        return np.transpose(\n",
        "                np.array(pygame.surfarray.pixels3d(self.screen)), axes=(1, 0, 2)\n",
        "            )\n",
        "\n",
        "    def close(self) -> None:\n",
        "        \"\"\"\n",
        "        Clean up resources before shutting down the environment.\n",
        "\n",
        "        Returns: None.\n",
        "        \"\"\"\n",
        "        if self.screen is not None:\n",
        "            pygame.display.quit()\n",
        "            pygame.quit()\n",
        "            self.screen = None\n",
        "\n",
        "    def compute_reward(self, state: Tuple[int, int], action: int) -> float:\n",
        "        \"\"\"\n",
        "        Compute the reward attained by taking action 'a' at state 's'.\n",
        "\n",
        "        Args:\n",
        "            state: the state of the agent prior to taking the action.\n",
        "            action: the action taken by the agent.\n",
        "\n",
        "        Returns:\n",
        "            A float representing the reward signal received by the agent.\n",
        "\n",
        "        \"\"\"\n",
        "        next_state = self._get_next_state(state, action)\n",
        "        if self.shaped_rewards:\n",
        "            return - (self.distances[next_state] / self.distances.max())\n",
        "        return - float(state != self.goal)\n",
        "\n",
        "    def simulate_step(self, state: Tuple[int, int], action: int):\n",
        "        \"\"\"\n",
        "\n",
        "        Simulate (without taking) a step in the environment.\n",
        "\n",
        "        Args:\n",
        "            state: the state of the agent prior to taking the action.\n",
        "            action: the action to simulate the step with.\n",
        "\n",
        "        Returns:\n",
        "            The next transition.\n",
        "\n",
        "        \"\"\"\n",
        "        reward = self.compute_reward(state, action)\n",
        "        next_state = self._get_next_state(state, action)\n",
        "        done = next_state == self.goal\n",
        "        info = {}\n",
        "        return next_state, reward, done, info\n",
        "\n",
        "    def _get_next_state(self, state: Tuple[int, int], action: int) -> Tuple[int, int]:\n",
        "        \"\"\"\n",
        "        Gets the next state after the agent performs action 'a' in state 's'. If there is a\n",
        "        wall in the way, the next state will be the same as the current.\n",
        "\n",
        "        Args:\n",
        "            state: current state (before taking the action).\n",
        "            action: move performed by the agent.\n",
        "\n",
        "        Returns: a State instance representing the new state.\n",
        "        \"\"\"\n",
        "        if action == 0:\n",
        "            next_state = (state[0] - 1, state[1])\n",
        "        elif action == 1:\n",
        "            next_state = (state[0], state[1] + 1)\n",
        "        elif action == 2:\n",
        "            next_state = (state[0] + 1, state[1])\n",
        "        elif action == 3:\n",
        "            next_state = (state[0], state[1] - 1)\n",
        "        else:\n",
        "            raise ValueError(\"Action value not supported:\", action)\n",
        "        if next_state in self.maze[state]:\n",
        "            return next_state\n",
        "        return state\n",
        "\n",
        "    @staticmethod\n",
        "    def _create_maze(size: int) -> Dict[Tuple[int, int], Iterable[Tuple[int, int]]]:\n",
        "        \"\"\"\n",
        "        Creates a representation of the maze as a dictionary where the keys are\n",
        "        the states available to the agent and the values are lists of adjacent\n",
        "        states.\n",
        "\n",
        "        Args:\n",
        "            size: number of elements of each side in the square grid.\n",
        "\n",
        "        Returns: the adjacency list dictionary.\n",
        "        \"\"\"\n",
        "\n",
        "        maze = {(row, col): [(row - 1, col), (row + 1, col), (row, col - 1), (row, col + 1)]\n",
        "                for row in range(size) for col in range(size)}\n",
        "\n",
        "        left_edges = [[(row, 0), (row, -1)] for row in range(size)]\n",
        "        right_edges = [[(row, size - 1), (row, size)] for row in range(size)]\n",
        "        upper_edges = [[(0, col), (-1, col)] for col in range(size)]\n",
        "        lower_edges = [[(size - 1, col), (size, col)] for col in range(size)]\n",
        "        walls = [\n",
        "            [(1, 0), (1, 1)], [(2, 0), (2, 1)], [(3, 0), (3, 1)],\n",
        "            [(1, 1), (1, 2)], [(2, 1), (2, 2)], [(3, 1), (3, 2)],\n",
        "            [(3, 1), (4, 1)], [(0, 2), (1, 2)], [(1, 2), (1, 3)],\n",
        "            [(2, 2), (3, 2)], [(2, 3), (3, 3)], [(2, 4), (3, 4)],\n",
        "            [(4, 2), (4, 3)], [(1, 3), (1, 4)], [(2, 3), (2, 4)],\n",
        "        ]\n",
        "\n",
        "        obstacles = upper_edges + lower_edges + left_edges + right_edges + walls\n",
        "\n",
        "        for src, dst in obstacles:\n",
        "            maze[src].remove(dst)\n",
        "\n",
        "            if dst in maze:\n",
        "                maze[dst].remove(src)\n",
        "\n",
        "        return maze\n",
        "\n",
        "    @staticmethod\n",
        "    def _compute_distances(goal: Tuple[int, int],\n",
        "                           maze: Dict[Tuple[int, int], Iterable[Tuple[int, int]]]) -> np.ndarray:\n",
        "        \"\"\"\n",
        "        Compute the distance to the goal from all other positions in the maze using Dijkstra's\n",
        "        algorithm.\n",
        "\n",
        "        Args:\n",
        "            goal: A tuple representing the location of the goal in a two-dimensional grid.\n",
        "            maze: A dictionary holding the adjacency lists of all locations in the\n",
        "            two-dimensional grid.\n",
        "\n",
        "        Returns: A (H x W) numpy array holding the minimum number of moves for each position\n",
        "        to reach the goal.\n",
        "\n",
        "        \"\"\"\n",
        "        distances = np.full((5, 5), np.inf)\n",
        "        visited = set()\n",
        "        distances[goal] = 0.\n",
        "\n",
        "        while visited != set(maze):\n",
        "            sorted_dst = [(v // 5, v % 5) for v in distances.argsort(axis=None)]\n",
        "            closest = next(x for x in sorted_dst if x not in visited)\n",
        "            visited.add(closest)\n",
        "\n",
        "            for neighbour in maze[closest]:\n",
        "                distances[neighbour] = min(distances[neighbour], distances[closest] + 1)\n",
        "        return distances\n",
        "\n",
        "from IPython import display\n",
        "from matplotlib import pyplot as plt\n",
        "\n",
        "%matplotlib inline"
      ]
    },
    {
      "cell_type": "code",
      "source": [
        "from typing import Callable\n",
        "\n",
        "from IPython import display\n",
        "import matplotlib.patches as mpatches\n",
        "import matplotlib.pyplot as plt\n",
        "import seaborn as sns\n",
        "import gym\n",
        "import torch\n",
        "\n",
        "def plot_policy(probs_or_qvals, frame, action_meanings=None):\n",
        "    if action_meanings is None:\n",
        "        action_meanings = {0: 'U', 1: 'R', 2: 'D', 3: 'L'}\n",
        "    fig, axes = plt.subplots(1, 2, figsize=(12, 6))\n",
        "    max_prob_actions = probs_or_qvals.argmax(axis=-1)\n",
        "    probs_copy = max_prob_actions.copy().astype(np.object)\n",
        "    for key in action_meanings:\n",
        "        probs_copy[probs_copy == key] = action_meanings[key]\n",
        "    sns.heatmap(max_prob_actions, annot=probs_copy, fmt='', cbar=False, cmap='coolwarm',\n",
        "                annot_kws={'weight': 'bold', 'size': 12}, linewidths=2, ax=axes[0])\n",
        "    axes[1].imshow(frame)\n",
        "    axes[0].axis('off')\n",
        "    axes[1].axis('off')\n",
        "    plt.suptitle(\"Policy\", size=24)\n",
        "    plt.tight_layout()\n",
        "\n",
        "\n",
        "def plot_values(state_values, frame):\n",
        "    f, axes = plt.subplots(1, 2, figsize=(12, 5))\n",
        "    sns.heatmap(state_values, annot=True, fmt=\".2f\", cmap='coolwarm',\n",
        "                annot_kws={'weight': 'bold', 'size': 12}, linewidths=2, ax=axes[0])\n",
        "    axes[1].imshow(frame)\n",
        "    axes[0].axis('off')\n",
        "    axes[1].axis('off')\n",
        "    plt.tight_layout()\n",
        "\n",
        "\n",
        "def plot_action_values(action_values):\n",
        "\n",
        "    text_positions = [\n",
        "        [(0.35, 4.75), (1.35, 4.75), (2.35, 4.75), (3.35, 4.75), (4.35, 4.75),\n",
        "         (0.35, 3.75), (1.35, 3.75), (2.35, 3.75), (3.35, 3.75), (4.35, 3.75),\n",
        "         (0.35, 2.75), (1.35, 2.75), (2.35, 2.75), (3.35, 2.75), (4.35, 2.75),\n",
        "         (0.35, 1.75), (1.35, 1.75), (2.35, 1.75), (3.35, 1.75), (4.35, 1.75),\n",
        "         (0.35, 0.75), (1.35, 0.75), (2.35, 0.75), (3.35, 0.75), (4.35, 0.75)],\n",
        "        [(0.6, 4.45), (1.6, 4.45), (2.6, 4.45), (3.6, 4.45), (4.6, 4.45),\n",
        "         (0.6, 3.45), (1.6, 3.45), (2.6, 3.45), (3.6, 3.45), (4.6, 3.45),\n",
        "         (0.6, 2.45), (1.6, 2.45), (2.6, 2.45), (3.6, 2.45), (4.6, 2.45),\n",
        "         (0.6, 1.45), (1.6, 1.45), (2.6, 1.45), (3.6, 1.45), (4.6, 1.45),\n",
        "         (0.6, 0.45), (1.6, 0.45), (2.6, 0.45), (3.6, 0.45), (4.6, 0.45)],\n",
        "        [(0.35, 4.15), (1.35, 4.15), (2.35, 4.15), (3.35, 4.15), (4.35, 4.15),\n",
        "         (0.35, 3.15), (1.35, 3.15), (2.35, 3.15), (3.35, 3.15), (4.35, 3.15),\n",
        "         (0.35, 2.15), (1.35, 2.15), (2.35, 2.15), (3.35, 2.15), (4.35, 2.15),\n",
        "         (0.35, 1.15), (1.35, 1.15), (2.35, 1.15), (3.35, 1.15), (4.35, 1.15),\n",
        "         (0.35, 0.15), (1.35, 0.15), (2.35, 0.15), (3.35, 0.15), (4.35, 0.15)],\n",
        "        [(0.05, 4.45), (1.05, 4.45), (2.05, 4.45), (3.05, 4.45), (4.05, 4.45),\n",
        "         (0.05, 3.45), (1.05, 3.45), (2.05, 3.45), (3.05, 3.45), (4.05, 3.45),\n",
        "         (0.05, 2.45), (1.05, 2.45), (2.05, 2.45), (3.05, 2.45), (4.05, 2.45),\n",
        "         (0.05, 1.45), (1.05, 1.45), (2.05, 1.45), (3.05, 1.45), (4.05, 1.45),\n",
        "         (0.05, 0.45), (1.05, 0.45), (2.05, 0.45), (3.05, 0.45), (4.05, 0.45)]]\n",
        "\n",
        "    fig, ax = plt.subplots(figsize=(9, 9))\n",
        "    tripcolor = quatromatrix(action_values, ax=ax,\n",
        "                             triplotkw={\"color\": \"k\", \"lw\": 1}, tripcolorkw={\"cmap\": \"coolwarm\"})\n",
        "    ax.margins(0)\n",
        "    ax.set_aspect(\"equal\")\n",
        "    fig.colorbar(tripcolor)\n",
        "\n",
        "    for j, av in enumerate(text_positions):\n",
        "        for i, (xi, yi) in enumerate(av):\n",
        "            plt.text(xi, yi, round(action_values[:, :, j].flatten()[i], 2), size=10, color=\"w\", weight=\"bold\")\n",
        "\n",
        "    plt.title(\"Action values Q(s,a)\", size=18)\n",
        "    plt.tight_layout()\n",
        "    plt.show()\n",
        "\n",
        "\n",
        "def quatromatrix(action_values, ax=None, triplotkw=None, tripcolorkw=None):\n",
        "    action_values = np.flipud(action_values)\n",
        "    n = 5\n",
        "    m = 5\n",
        "    a = np.array([[0, 0], [0, 1], [.5, .5], [1, 0], [1, 1]])\n",
        "    tr = np.array([[0, 1, 2], [0, 2, 3], [2, 3, 4], [1, 2, 4]])\n",
        "    A = np.zeros((n * m * 5, 2))\n",
        "    Tr = np.zeros((n * m * 4, 3))\n",
        "    for i in range(n):\n",
        "        for j in range(m):\n",
        "            k = i * m + j\n",
        "            A[k * 5:(k + 1) * 5, :] = np.c_[a[:, 0] + j, a[:, 1] + i]\n",
        "            Tr[k * 4:(k + 1) * 4, :] = tr + k * 5\n",
        "    C = np.c_[action_values[:, :, 3].flatten(), action_values[:, :, 2].flatten(),\n",
        "              action_values[:, :, 1].flatten(), action_values[:, :, 0].flatten()].flatten()\n",
        "\n",
        "    ax.triplot(A[:, 0], A[:, 1], Tr, **triplotkw)\n",
        "    tripcolor = ax.tripcolor(A[:, 0], A[:, 1], Tr, facecolors=C, **tripcolorkw)\n",
        "    return tripcolor\n",
        "\n",
        "\n",
        "def test_agent(env: gym.Env, policy: Callable, episodes: int = 10) -> None:\n",
        "    plt.figure(figsize=(8, 8))\n",
        "    for episode in range(episodes):\n",
        "        state = env.reset()\n",
        "        done = False\n",
        "        img = plt.imshow(env.render(mode='rgb_array'))\n",
        "        while not done:\n",
        "            p = policy(state)\n",
        "            if isinstance(p, np.ndarray):\n",
        "                action = np.random.choice(4, p=p)\n",
        "            else:\n",
        "                action = p\n",
        "            next_state, _, done, _ = env.step(action)\n",
        "            img.set_data(env.render(mode='rgb_array'))\n",
        "            plt.axis('off')\n",
        "            display.display(plt.gcf())\n",
        "            display.clear_output(wait=True)\n",
        "            state = next_state\n",
        "\n",
        "\n",
        "def plot_cost_to_go(env, q_network, xlabel=None, ylabel=None):\n",
        "    highx, highy = env.observation_space.high\n",
        "    lowx, lowy = env.observation_space.low\n",
        "    X = torch.linspace(lowx, highx, 100)\n",
        "    Y = torch.linspace(lowy, highy, 100)\n",
        "    X, Y = torch.meshgrid(X, Y)\n",
        "\n",
        "    q_net_input = torch.stack([X.flatten(), Y.flatten()], dim=-1)\n",
        "    Z = - q_network(q_net_input).max(dim=-1, keepdim=True)[0]\n",
        "    Z = Z.reshape(100, 100).detach().numpy()\n",
        "    X = X.numpy()\n",
        "    Y = Y.numpy()\n",
        "\n",
        "    fig = plt.figure(figsize=(8, 8))\n",
        "    ax = fig.add_subplot(111, projection='3d')\n",
        "    surf = ax.plot_surface(X, Y, Z, cmap='jet', linewidth=0, antialiased=False)\n",
        "    fig.colorbar(surf, shrink=0.5, aspect=5)\n",
        "    ax.set_xlabel(xlabel, size=14)\n",
        "    ax.set_ylabel(ylabel, size=14)\n",
        "    ax.set_title(\"Estimated cost-to-go\", size=18)\n",
        "    plt.tight_layout()\n",
        "    plt.show()\n",
        "\n",
        "\n",
        "def plot_tabular_cost_to_go(action_values, xlabel, ylabel):\n",
        "    plt.figure(figsize=(8, 8))\n",
        "    cost_to_go = -action_values.max(axis=-1)\n",
        "    plt.imshow(cost_to_go, cmap='jet')\n",
        "    plt.title(\"Estimated cost-to-go\", size=24)\n",
        "    plt.xlabel(xlabel, size=18)\n",
        "    plt.ylabel(ylabel, size=18)\n",
        "    plt.xticks([])\n",
        "    plt.yticks([])\n",
        "    plt.xticks()\n",
        "    plt.colorbar()\n",
        "    plt.tight_layout()\n",
        "    plt.show()\n",
        "\n",
        "\n",
        "def plot_max_q(env, q_network, xlabel=None, ylabel=None, action_labels=[]):\n",
        "    highx, highy = env.observation_space.high\n",
        "    lowx, lowy = env.observation_space.low\n",
        "    X = torch.linspace(lowx, highx, 100)\n",
        "    Y = torch.linspace(lowy, highy, 100)\n",
        "    X, Y = torch.meshgrid(X, Y)\n",
        "    q_net_input = torch.stack([X.flatten(), Y.flatten()], dim=-1)\n",
        "    Z = q_network(q_net_input).argmax(dim=-1, keepdim=True)\n",
        "    Z = Z.reshape(100, 100).T.detach().numpy()\n",
        "    values = np.unique(Z.ravel())\n",
        "    values.sort()\n",
        "\n",
        "    plt.figure(figsize=(5, 5))\n",
        "    plt.xlabel(xlabel, size=14)\n",
        "    plt.ylabel(ylabel, size=14)\n",
        "    plt.title(\"Optimal action\", size=18)\n",
        "\n",
        "    # im = plt.imshow(Z, interpolation='none', cmap='jet')\n",
        "    im = plt.imshow(Z, cmap='jet')\n",
        "    colors = [im.cmap(im.norm(value)) for value in values]\n",
        "    patches = [mpatches.Patch(color=color, label=label) for color, label in zip(colors, action_labels)]\n",
        "    plt.legend(handles=patches, bbox_to_anchor=(1.05, 1), loc=2, borderaxespad=0.)\n",
        "    plt.tight_layout()\n",
        "\n",
        "\n",
        "def plot_stats(stats):\n",
        "    rows = len(stats)\n",
        "    cols = 1\n",
        "\n",
        "    fig, ax = plt.subplots(rows, cols, figsize=(12, 6))\n",
        "\n",
        "    for i, key in enumerate(stats):\n",
        "        vals = stats[key]\n",
        "        vals = [np.mean(vals[i-10:i+10]) for i in range(10, len(vals)-10)]\n",
        "        if len(stats) > 1:\n",
        "            ax[i].plot(range(len(vals)), vals)\n",
        "            ax[i].set_title(key, size=18)\n",
        "        else:\n",
        "            ax.plot(range(len(vals)), vals)\n",
        "            ax.set_title(key, size=18)\n",
        "    plt.tight_layout()\n",
        "    plt.show()\n",
        "\n",
        "\n",
        "def seed_everything(env: gym.Env, seed: int = 42) -> None:\n",
        "    \"\"\"\n",
        "    Seeds all the sources of randomness so that experiments are reproducible.\n",
        "    Args:\n",
        "        env: the environment to be seeded.\n",
        "        seed: an integer seed.\n",
        "    Returns:\n",
        "        None.\n",
        "    \"\"\"\n",
        "    env.seed(seed)\n",
        "    env.action_space.seed(seed)\n",
        "    env.observation_space.seed(seed)\n",
        "    np.random.seed(seed)\n",
        "    torch.manual_seed(seed)\n",
        "    # torch._set_deterministic(True)\n",
        "\n",
        "\n",
        "def test_policy_network(env, policy, episodes=1):\n",
        "    from IPython import display\n",
        "    plt.figure(figsize=(6, 6))\n",
        "    for episode in range(episodes):\n",
        "        state = env.reset()\n",
        "        done = False\n",
        "        img = plt.imshow(env.render(mode='rgb_array'))\n",
        "        while not done:\n",
        "            state = torch.from_numpy(state).unsqueeze(0).float()\n",
        "            action = policy(state).multinomial(1).item()\n",
        "            next_state, _, done, _ = env.step(action)\n",
        "            img.set_data(env.render(mode='rgb_array'))\n",
        "            plt.axis('off')\n",
        "            display.display(plt.gcf())\n",
        "            display.clear_output(wait=True)\n",
        "            state = next_state\n",
        "\n",
        "\n",
        "def plot_action_probs(probs, labels):\n",
        "    plt.figure(figsize=(6, 4))\n",
        "    plt.bar(labels, probs, color ='orange')\n",
        "    plt.title(\"$\\pi(s)$\", size=16)\n",
        "    plt.xticks(fontsize=12)\n",
        "    plt.yticks(fontsize=12)\n",
        "    plt.tight_layout()\n",
        "    plt.show()\n"
      ],
      "metadata": {
        "id": "Xso5qziScvJI"
      },
      "execution_count": 4,
      "outputs": []
    },
    {
      "cell_type": "markdown",
      "metadata": {
        "id": "yEnho1Skbe5O"
      },
      "source": [
        "## Initialize the environment"
      ]
    },
    {
      "cell_type": "code",
      "execution_count": 5,
      "metadata": {
        "id": "eJDhpKLDbe5O",
        "outputId": "c35bc65f-1f9c-4957-f96a-3b4ddab54474",
        "colab": {
          "base_uri": "https://localhost:8080/"
        }
      },
      "outputs": [
        {
          "output_type": "stream",
          "name": "stderr",
          "text": [
            "/usr/local/lib/python3.9/dist-packages/ipykernel/ipkernel.py:283: DeprecationWarning: `should_run_async` will not call `transform_cell` automatically in the future. Please pass the result to `transformed_cell` argument and any exception that happen during thetransform in `preprocessing_exc_tuple` in IPython 7.17 and above.\n",
            "  and should_run_async(code)\n"
          ]
        }
      ],
      "source": [
        "env = Maze()"
      ]
    },
    {
      "cell_type": "code",
      "source": [
        "import warnings\n",
        "warnings.filterwarnings('ignore')"
      ],
      "metadata": {
        "id": "QrdH9EAFePHg"
      },
      "execution_count": 7,
      "outputs": []
    },
    {
      "cell_type": "code",
      "execution_count": 8,
      "metadata": {
        "id": "CPBhSGsqbe5O",
        "outputId": "1b161516-60e0-49fa-9427-5ff1f5b471f4",
        "colab": {
          "base_uri": "https://localhost:8080/",
          "height": 423
        }
      },
      "outputs": [
        {
          "output_type": "execute_result",
          "data": {
            "text/plain": [
              "<matplotlib.image.AxesImage at 0x7f93ac2de6a0>"
            ]
          },
          "metadata": {},
          "execution_count": 8
        },
        {
          "output_type": "display_data",
          "data": {
            "text/plain": [
              "<Figure size 640x480 with 1 Axes>"
            ],
            "image/png": "[encoded data removed]"
          },
          "metadata": {}
        }
      ],
      "source": [
        "frame = env.render(mode='rgb_array')\n",
        "plt.axis('off')\n",
        "plt.imshow(frame)"
      ]
    },
    {
      "cell_type": "code",
      "execution_count": 11,
      "metadata": {
        "id": "9PNr8yK2be5O",
        "outputId": "25a2970a-10b8-49fe-eed9-ed73131f2541",
        "colab": {
          "base_uri": "https://localhost:8080/"
        }
      },
      "outputs": [
        {
          "output_type": "stream",
          "name": "stdout",
          "text": [
            "[5 5]\n",
            "4\n"
          ]
        }
      ],
      "source": [
        "print(env.observation_space.nvec)\n",
        "print(env.action_space.n)\n"
      ]
    },
    {
      "cell_type": "markdown",
      "metadata": {
        "id": "F6--wUH5be5O"
      },
      "source": [
        "## Define the policy $\\pi(\\cdot|s)$"
      ]
    },
    {
      "cell_type": "markdown",
      "metadata": {
        "id": "iCdE0-6vbe5P"
      },
      "source": [
        "#### Create the policy $\\pi(\\cdot|s)$"
      ]
    },
    {
      "cell_type": "code",
      "execution_count": 12,
      "metadata": {
        "id": "de8xO6rWbe5P"
      },
      "outputs": [],
      "source": [
        "policy_probs = np.full((5,5,4),0.25)"
      ]
    },
    {
      "cell_type": "code",
      "execution_count": 19,
      "metadata": {
        "id": "cK9QrspKbe5P"
      },
      "outputs": [],
      "source": [
        "def policy(state):\n",
        "    return policy_probs[state]"
      ]
    },
    {
      "cell_type": "markdown",
      "metadata": {
        "id": "hwNN3Eivbe5P"
      },
      "source": [
        "#### Test the policy with state (0, 0)"
      ]
    },
    {
      "cell_type": "code",
      "execution_count": 20,
      "metadata": {
        "id": "wxnUkO3pbe5P",
        "outputId": "3c709bbd-aac0-4e28-853a-3ae2c664b9a6",
        "colab": {
          "base_uri": "https://localhost:8080/"
        }
      },
      "outputs": [
        {
          "output_type": "stream",
          "name": "stdout",
          "text": [
            "[0.25 0.25 0.25 0.25]\n",
            "0  -->  0.25\n",
            "1  -->  0.25\n",
            "2  -->  0.25\n",
            "3  -->  0.25\n"
          ]
        }
      ],
      "source": [
        "action_probabilities = policy((0,0))\n",
        "print(action_probabilities)\n",
        "for action,prob in zip(range(4),action_probabilities):\n",
        "    print(action,' --> ',prob)"
      ]
    },
    {
      "cell_type": "markdown",
      "metadata": {
        "id": "1KlLTXNMbe5Q"
      },
      "source": [
        "#### See how the random policy does in the maze"
      ]
    },
    {
      "cell_type": "code",
      "execution_count": 24,
      "metadata": {
        "id": "M3KHCLPibe5Q"
      },
      "outputs": [],
      "source": [
        "test_agent(env,policy,episodes=1)"
      ]
    },
    {
      "cell_type": "markdown",
      "metadata": {
        "id": "7BpFhO01be5Q"
      },
      "source": [
        "#### Plot the policy"
      ]
    },
    {
      "cell_type": "code",
      "execution_count": 25,
      "metadata": {
        "id": "PgfU6UCQbe5Q",
        "outputId": "32ff1c6e-76b0-46be-d3c0-a9b386b6fc10",
        "colab": {
          "base_uri": "https://localhost:8080/",
          "height": 610
        }
      },
      "outputs": [
        {
          "output_type": "display_data",
          "data": {
            "text/plain": [
              "<Figure size 1200x600 with 2 Axes>"
            ],
            "image/png": "[encoded data removed]"
          },
          "metadata": {}
        }
      ],
      "source": [
        "plot_policy(policy_probs,frame)"
      ]
    },
    {
      "cell_type": "markdown",
      "metadata": {
        "id": "pGJVUiIqbe5Q"
      },
      "source": [
        "## Define value table $V(s)$"
      ]
    },
    {
      "cell_type": "markdown",
      "metadata": {
        "id": "ntdSKS1Ube5Q"
      },
      "source": [
        "#### Create the $V(s)$ table"
      ]
    },
    {
      "cell_type": "code",
      "execution_count": 47,
      "metadata": {
        "id": "xbKviqHUbe5R"
      },
      "outputs": [],
      "source": [
        "state_values = np.zeros(shape=(5,5))"
      ]
    },
    {
      "cell_type": "markdown",
      "metadata": {
        "id": "Lnfy_dIjbe5R"
      },
      "source": [
        "#### Plot $V(s)$"
      ]
    },
    {
      "cell_type": "code",
      "execution_count": 48,
      "metadata": {
        "id": "e9-fyQ9Dbe5R",
        "outputId": "954f1b60-dfa4-48af-b720-0c1baf817b0f",
        "colab": {
          "base_uri": "https://localhost:8080/",
          "height": 506
        }
      },
      "outputs": [
        {
          "output_type": "display_data",
          "data": {
            "text/plain": [
              "<Figure size 1200x500 with 3 Axes>"
            ],
            "image/png": "[encoded data removed]"
          },
          "metadata": {}
        }
      ],
      "source": [
        "plot_values(state_values,frame)"
      ]
    },
    {
      "cell_type": "markdown",
      "metadata": {
        "id": "2Sa4SdvFbe5R"
      },
      "source": [
        "## Implement the Value Iteration algorithm\n",
        "\n",
        "</br>\n",
        "\n",
        "\n",
        "![dp alg vi.png](data:image/png;base64,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)\n",
        "\n",
        "<div style=\"text-align:center\">\n",
        "    Adapted from Barto & Sutton: \"Reinforcement Learning: An Introduction\".\n",
        "</div>"
      ]
    },
    {
      "cell_type": "code",
      "execution_count": 49,
      "metadata": {
        "id": "-26rx9jkbe5R"
      },
      "outputs": [],
      "source": [
        "def value_iteration(policy_probs,state_values,theta=1e-6,gamma=0.99):\n",
        "    delta = float(\"inf\")\n",
        "    while(delta>theta):\n",
        "        delta = 0\n",
        "        for row in range(5):\n",
        "            for col in range(5):\n",
        "                old_value = state_values[(row,col)]\n",
        "                action_probs = None\n",
        "                max_qsa = float(\"-inf\")\n",
        "\n",
        "                for action in range(4):\n",
        "                    next_state, reward, _, _ = env.simulate_step((row,col),action)\n",
        "                    qsa = reward + gamma* state_values[next_state]\n",
        "\n",
        "                    if qsa > max_qsa:\n",
        "                        max_qsa = qsa\n",
        "                        action_probs = np.zeros(4)\n",
        "                        action_probs[action] = 1\n",
        "                state_values[(row,col)]= max_qsa\n",
        "                policy_probs[(row,col)]=action_probs\n",
        "\n",
        "                delta = max(delta,abs(max_qsa-old_value))"
      ]
    },
    {
      "cell_type": "code",
      "source": [
        "value_iteration(policy_probs,state_values)"
      ],
      "metadata": {
        "id": "t2mwXj78q48U"
      },
      "execution_count": 50,
      "outputs": []
    },
    {
      "cell_type": "markdown",
      "metadata": {
        "id": "NXkxY2Tsbe5S"
      },
      "source": [
        "## Show results"
      ]
    },
    {
      "cell_type": "markdown",
      "metadata": {
        "id": "k8sddQgKbe5S"
      },
      "source": [
        "#### Show resulting value table $V(s)$"
      ]
    },
    {
      "cell_type": "code",
      "source": [
        "state_values"
      ],
      "metadata": {
        "id": "zK_hPxHorukj",
        "outputId": "1c66c234-6f3e-4930-b59c-d7eff4e361a7",
        "colab": {
          "base_uri": "https://localhost:8080/"
        }
      },
      "execution_count": 51,
      "outputs": [
        {
          "output_type": "execute_result",
          "data": {
            "text/plain": [
              "array([[ -9.5617925 , -10.46617457, -11.36151283, -12.2478977 ,\n",
              "        -13.12541872],\n",
              "       [ -8.64827525, -11.36151283, -15.70568066, -13.12541872,\n",
              "        -13.99416454],\n",
              "       [ -7.72553056, -12.2478977 , -14.85422289, -13.99416454,\n",
              "        -14.85422289],\n",
              "       [ -6.79346521, -13.12541872,  -2.9701    ,  -1.99      ,\n",
              "         -1.        ],\n",
              "       [ -5.85198506,  -4.90099501,  -3.940399  ,  -1.        ,\n",
              "          0.        ]])"
            ]
          },
          "metadata": {},
          "execution_count": 51
        }
      ]
    },
    {
      "cell_type": "code",
      "execution_count": 52,
      "metadata": {
        "id": "LbiPWThlbe5S",
        "outputId": "4f0d0844-80b2-4838-ba3b-03f02cb91d13",
        "colab": {
          "base_uri": "https://localhost:8080/",
          "height": 507
        }
      },
      "outputs": [
        {
          "output_type": "display_data",
          "data": {
            "text/plain": [
              "<Figure size 1200x500 with 3 Axes>"
            ],
            "image/png": "[encoded data removed]"
          },
          "metadata": {}
        }
      ],
      "source": [
        "plot_values(state_values,frame)"
      ]
    },
    {
      "cell_type": "markdown",
      "metadata": {
        "id": "pFpyTAEobe5S"
      },
      "source": [
        "#### Show resulting policy $\\pi(\\cdot|s)$"
      ]
    },
    {
      "cell_type": "code",
      "execution_count": 53,
      "metadata": {
        "id": "DYXPn8F9be5S",
        "outputId": "de36c000-cc97-436d-ddc4-9a2cc692fcb8",
        "colab": {
          "base_uri": "https://localhost:8080/",
          "height": 610
        }
      },
      "outputs": [
        {
          "output_type": "display_data",
          "data": {
            "text/plain": [
              "<Figure size 1200x600 with 2 Axes>"
            ],
            "image/png": "[encoded data removed]"
          },
          "metadata": {}
        }
      ],
      "source": [
        "plot_policy(policy_probs,frame)"
      ]
    },
    {
      "cell_type": "markdown",
      "metadata": {
        "id": "J0I6eLqPbe5S"
      },
      "source": [
        "#### Test the resulting agent"
      ]
    },
    {
      "cell_type": "code",
      "execution_count": null,
      "metadata": {
        "id": "0mw2fzUXbe5T",
        "outputId": "2c8a6c8f-ad8a-4453-c279-929b8c3084b6",
        "colab": {
          "base_uri": "https://localhost:8080/",
          "height": 653
        }
      },
      "outputs": [
        {
          "output_type": "display_data",
          "data": {
            "text/plain": [
              "<Figure size 800x800 with 1 Axes>"
            ],
            "image/png": "[encoded data removed]"
          },
          "metadata": {}
        }
      ],
      "source": [
        "test_agent(env,policy)"
      ]
    },
    {
      "cell_type": "markdown",
      "metadata": {
        "id": "lvvec_91be5T"
      },
      "source": [
        "## Resources"
      ]
    },
    {
      "cell_type": "markdown",
      "metadata": {
        "id": "yRhGJF6qbe5T"
      },
      "source": [
        "[[1] Reinforcement Learning: An Introduction. Ch. 4: Dynamic Programming](https://web.stanford.edu/class/psych209/Readings/SuttonBartoIPRLBook2ndEd.pdf)"
      ]
    }
  ],
  "metadata": {
    "kernelspec": {
      "display_name": "Python 3",
      "language": "python",
      "name": "python3"
    },
    "language_info": {
      "codemirror_mode": {
        "name": "ipython",
        "version": 3
      },
      "file_extension": ".py",
      "mimetype": "text/x-python",
      "name": "python",
      "nbconvert_exporter": "python",
      "pygments_lexer": "ipython3",
      "version": "3.8.5"
    },
    "colab": {
      "provenance": []
    }
  },
  "nbformat": 4,
  "nbformat_minor": 0
}